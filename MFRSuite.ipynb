{
 "cells": [
  {
   "cell_type": "markdown",
   "id": "f5e7b1d0",
   "metadata": {
    "id": "f5e7b1d0"
   },
   "source": [
    "<a href=\"https://colab.research.google.com/github/lphansen/MFRSuite/blob/main/MFRSuite.ipynb\" target=\"_parent\"><img src=\"https://colab.research.google.com/assets/colab-badge.svg\" alt=\"Open In Colab\"/></a>"
   ]
  },
  {
   "cell_type": "markdown",
   "id": "3b82d1f0",
   "metadata": {},
   "source": [
    "# MFRSuite"
   ]
  },
  {
   "cell_type": "code",
   "execution_count": null,
   "id": "c2f54e32",
   "metadata": {},
   "outputs": [],
   "source": []
  },
  {
   "cell_type": "code",
   "execution_count": null,
   "id": "ef066880",
   "metadata": {
    "id": "ef066880"
   },
   "outputs": [],
   "source": []
  },
  {
   "cell_type": "code",
   "execution_count": null,
   "id": "e8a2dbdf-d34b-4a19-b80e-5627814a7866",
   "metadata": {},
   "outputs": [],
   "source": []
  }
 ],
 "metadata": {
  "colab": {
   "provenance": []
  },
  "interpreter": {
   "hash": "1c67a9c81f4b1f676ee52b818d3e176be5c9dd44f82a35d6054954eb94c37bc5"
  },
  "kernelspec": {
   "display_name": "Python 3 (ipykernel)",
   "language": "python",
   "name": "python3"
  },
  "language_info": {
   "codemirror_mode": {
    "name": "ipython",
    "version": 3
   },
   "file_extension": ".py",
   "mimetype": "text/x-python",
   "name": "python",
   "nbconvert_exporter": "python",
   "pygments_lexer": "ipython3",
   "version": "3.9.7"
  }
 },
 "nbformat": 4,
 "nbformat_minor": 5
}
