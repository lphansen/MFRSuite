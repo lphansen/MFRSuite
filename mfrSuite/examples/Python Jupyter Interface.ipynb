{
 "cells": [
  {
   "cell_type": "markdown",
   "metadata": {},
   "source": [
    "# Graphical User Interface (GUI) to Model Solution in Hansen, Khorrami and Tourre"
   ]
  },
  {
   "cell_type": "markdown",
   "metadata": {},
   "source": [
    "This notebook serves as a graphical user interface (GUI) for the framework developed in Hansen, Khorrami, and Tourre (forthcoming). You can use this notebook to solve and analyze models."
   ]
  },
  {
   "cell_type": "code",
   "execution_count": 1,
   "metadata": {},
   "outputs": [
    {
     "data": {
      "application/javascript": [
       "Jupyter.notebook.execute_cells([3,4,5,6,7,8,9,14,15,16,17,18,19,20,21])"
      ],
      "text/plain": [
       "<IPython.core.display.Javascript object>"
      ]
     },
     "execution_count": 1,
     "metadata": {},
     "output_type": "execute_result"
    }
   ],
   "source": [
    "from IPython.display import Javascript\n",
    "Javascript(\"Jupyter.notebook.execute_cells([3,4,5,6,7,8,9,14,15,16,17,18,19,20,21])\")"
   ]
  },
  {
   "cell_type": "code",
   "execution_count": 14,
   "metadata": {
    "scrolled": true
   },
   "outputs": [
    {
     "name": "stdout",
     "output_type": "stream",
     "text": [
      "The autoreload extension is already loaded. To reload it, use:\n",
      "  %reload_ext autoreload\n"
     ]
    },
    {
     "data": {
      "text/html": [
       "<script>var waitForPlotly = setInterval( function() {if( typeof(window.Plotly) !== \"undefined\" ){MathJax.Hub.Config({ SVG: { font: \"STIX-Web\" }, displayAlign: \"center\" });MathJax.Hub.Queue([\"setRenderer\", MathJax.Hub, \"SVG\"]);clearInterval(waitForPlotly);}}, 250 );</script>"
      ],
      "text/plain": [
       "<IPython.core.display.HTML object>"
      ]
     },
     "metadata": {},
     "output_type": "display_data"
    }
   ],
   "source": [
    "%load_ext autoreload\n",
    "%autoreload 2\n",
    "%matplotlib inline \n",
    "\n",
    "\n",
    "## Load dependencies\n",
    "from mfr.modelSoln import *\n",
    "from mfr.jupyterWidgets import *\n",
    "from IPython.core.display import display, HTML\n",
    "\n",
    "display(HTML(\n",
    "    '<script>'\n",
    "        'var waitForPlotly = setInterval( function() {'\n",
    "            'if( typeof(window.Plotly) !== \"undefined\" ){'\n",
    "                'MathJax.Hub.Config({ SVG: { font: \"STIX-Web\" }, displayAlign: \"center\" });'\n",
    "                'MathJax.Hub.Queue([\"setRenderer\", MathJax.Hub, \"SVG\"]);'\n",
    "                'clearInterval(waitForPlotly);'\n",
    "            '}}, 250 );'\n",
    "    '</script>'\n",
    "))\n"
   ]
  },
  {
   "cell_type": "code",
   "execution_count": 15,
   "metadata": {},
   "outputs": [
    {
     "data": {
      "text/html": [
       "<script>\n",
       "code_show=true; \n",
       "function code_toggle() {\n",
       " if (code_show){\n",
       " $('div.input').hide();\n",
       " } else {\n",
       " $('div.input').show();\n",
       " }\n",
       " code_show = !code_show\n",
       "} \n",
       "$( document ).ready(code_toggle);\n",
       "</script>\n",
       "The raw code is by default hidden for easier reading.\n",
       "To toggle on/off the raw code, click <a href=\"javascript:code_toggle()\">here</a>."
      ],
      "text/plain": [
       "<IPython.core.display.HTML object>"
      ]
     },
     "execution_count": 15,
     "metadata": {},
     "output_type": "execute_result"
    }
   ],
   "source": [
    "HTML('''<script>\n",
    "code_show=true; \n",
    "function code_toggle() {\n",
    " if (code_show){\n",
    " $('div.input').hide();\n",
    " } else {\n",
    " $('div.input').show();\n",
    " }\n",
    " code_show = !code_show\n",
    "} \n",
    "$( document ).ready(code_toggle);\n",
    "</script>\n",
    "The raw code is by default hidden for easier reading.\n",
    "To toggle on/off the raw code, click <a href=\"javascript:code_toggle()\">here</a>.''')"
   ]
  },
  {
   "cell_type": "markdown",
   "metadata": {},
   "source": [
    "## Setting up parameters"
   ]
  },
  {
   "cell_type": "markdown",
   "metadata": {},
   "source": [
    "First, configure the parameters. Afterwards, click button `Update parameters` and `Run model`."
   ]
  },
  {
   "cell_type": "code",
   "execution_count": 16,
   "metadata": {
    "scrolled": false
   },
   "outputs": [
    {
     "data": {
      "application/vnd.jupyter.widget-view+json": {
       "model_id": "d7905d6efeed4731af528136ff1f842b",
       "version_major": 2,
       "version_minor": 0
      },
      "text/plain": [
       "VBox(children=(HBox(children=(VBox(children=(Label(value='OLG'), BoundedFloatText(value=0.1, description=\"Expe…"
      ]
     },
     "metadata": {},
     "output_type": "display_data"
    },
    {
     "data": {
      "application/vnd.jupyter.widget-view+json": {
       "model_id": "4a73828ce7ae489cab15df19ab84b532",
       "version_major": 2,
       "version_minor": 0
      },
      "text/plain": [
       "Output()"
      ]
     },
     "metadata": {},
     "output_type": "display_data"
    },
    {
     "data": {
      "application/vnd.jupyter.widget-view+json": {
       "model_id": "d9adc39af3984f808784fbe4bc769ff7",
       "version_major": 2,
       "version_minor": 0
      },
      "text/plain": [
       "HBox(children=(VBox(children=(Label(value='Input'), Dropdown(description='Load solution from other models:', o…"
      ]
     },
     "metadata": {},
     "output_type": "display_data"
    }
   ],
   "source": [
    "display(paramsPanel)\n",
    "#display(hhCap)\n",
    "#out = widgets.interactive_output(displayHHProd, {'hhCap': hhCap})\n",
    "#display(out)\n",
    "\n",
    "def updateNShocks(*args):\n",
    "    sigmas = [sigma_V_norm.value, sigma_Z_norm.value, sigma_Vtilde_norm.value]\n",
    "    nShocks.value = len([s for s in sigmas if s > 0]) + 1\n",
    "sigma_V_norm.observe(updateNShocks, 'value')\n",
    "sigma_Z_norm.observe(updateNShocks, 'value')\n",
    "sigma_Vtilde_norm.observe(updateNShocks, 'value')\n",
    "\n",
    "out2 = widgets.interactive_output(displayShocks, {'nShocks': nShocks})\n",
    "display(out2)\n",
    "\n",
    "out3       = widgets.interactive_output(displayLoadSolution, {'loadSolution': loadSolution})\n",
    "out4       = widgets.interactive_output(displayLoadParameters, {'loadParameters': loadParameters})\n",
    "in_box     = VBox([widgets.Label(value=\"Input\"), loadSolution, out3, loadParameters, out4], \\\n",
    "layout = Layout(width='90%'))\n",
    "IOLine     = HBox([in_box, out_box])#, layout = box_layout)\n",
    "display(IOLine)\n"
   ]
  },
  {
   "cell_type": "markdown",
   "metadata": {},
   "source": [
    "After configuring parameters, click `Update parameters` and then `Run model` to solve the mode."
   ]
  },
  {
   "cell_type": "code",
   "execution_count": 17,
   "metadata": {},
   "outputs": [
    {
     "data": {
      "application/vnd.jupyter.widget-view+json": {
       "model_id": "2ce2e06444054c7bb935bd63f5319fef",
       "version_major": 2,
       "version_minor": 0
      },
      "text/plain": [
       "VBox(children=(Label(value='Execute Model'), Button(description='Update parameters', style=ButtonStyle()), But…"
      ]
     },
     "metadata": {},
     "output_type": "display_data"
    }
   ],
   "source": [
    "display(run_box)"
   ]
  },
  {
   "cell_type": "markdown",
   "metadata": {},
   "source": [
    "## Model Results"
   ]
  },
  {
   "cell_type": "markdown",
   "metadata": {},
   "source": [
    "### Plots"
   ]
  },
  {
   "cell_type": "code",
   "execution_count": 6,
   "metadata": {},
   "outputs": [
    {
     "data": {
      "application/vnd.jupyter.widget-view+json": {
       "model_id": "04ef7312baa9488ca532c3bab2439b2d",
       "version_major": 2,
       "version_minor": 0
      },
      "text/plain": [
       "HBox(children=(Dropdown(description='Variable', index=14, options=(('Aggregate Consumption-to-Capital Ratio', …"
      ]
     },
     "metadata": {},
     "output_type": "display_data"
    },
    {
     "data": {
      "application/vnd.jupyter.widget-view+json": {
       "model_id": "d99b7c76c2114b86a170ab219e7c4b3b",
       "version_major": 2,
       "version_minor": 0
      },
      "text/plain": [
       "Output()"
      ]
     },
     "metadata": {},
     "output_type": "display_data"
    }
   ],
   "source": [
    "clear_output()\n",
    "variableChoices   = defaultModel.label2Var.copy()\n",
    "removeList        = ['Value Function of Experts','Value Function of Households', \"Exogenous Growth\", \n",
    "                     \"Agg. Stochastic Variance\", \"Idio. Stochastic Variance\", \n",
    "                     \"Aggregate Consumption-to-Investment Ratio\",\n",
    "                     \"Wealth Share\"]\n",
    "## Remove variables that are unnecessary to plot\n",
    "for k in removeList:\n",
    "    variableChoices.pop(k, None)\n",
    "\n",
    "## Order the list of choices alphabetically\n",
    "orderedList = []\n",
    "for key in sorted(variableChoices.keys()):\n",
    "    choice = (key, defaultModel.label2Var[key])\n",
    "    orderedList.append(choice)\n",
    "    \n",
    "plotVar1.options  = orderedList\n",
    "plotVar2.options  = orderedList\n",
    "plotVar1.value    = 'chi()' ## choose default option\n",
    "\n",
    "## Handle xaxis dropdown\n",
    "stateVarOptions = []\n",
    "for stateVar in defaultModel.stateVarList:\n",
    "    stateVarOptions.append(defaultModel.stateVar2Label[stateVar])\n",
    "\n",
    "xaxisStateDropdown.options = stateVarOptions\n",
    "\n",
    "## Prepare ui\n",
    "if defaultModel.params['nDims'] == 1:\n",
    "    ui = widgets.HBox([plotVar1], layout = box_layout)\n",
    "    plotVar1.description = 'Variable'\n",
    "else:\n",
    "    plotVar1.description           = 'Variable'\n",
    "    xaxisStateDropdown.description = 'X-axis'\n",
    "    ui = widgets.HBox([plotVar1, xaxisStateDropdown], layout = box_layout)\n",
    "display(ui)\n",
    "\n",
    "if defaultModel.params['nDims'] == 1:\n",
    "    panel = widgets.interactive(defaultModel.plotPanel, varName1 = plotVar1, varName2 = plotVar2)\n",
    "else:\n",
    "    xaxisStateDropdown.value = 'Wealth Share'\n",
    "    panel = widgets.interactive(defaultModel.plotPanel, varName1 = plotVar1, xaxisState = xaxisStateDropdown)\n",
    "\n",
    "display(panel.children[-1])\n",
    "plotVar1.value    = 'piE1()'\n"
   ]
  },
  {
   "cell_type": "markdown",
   "metadata": {},
   "source": [
    "## Diagnostics"
   ]
  },
  {
   "cell_type": "markdown",
   "metadata": {},
   "source": [
    "### Moments"
   ]
  },
  {
   "cell_type": "code",
   "execution_count": 18,
   "metadata": {
    "scrolled": true
   },
   "outputs": [
    {
     "data": {
      "application/vnd.jupyter.widget-view+json": {
       "model_id": "b243bcb64c364d77a8864374d8303a4c",
       "version_major": 2,
       "version_minor": 0
      },
      "text/plain": [
       "SelectMultiple(description='Equilibrium Quantities', layout=Layout(width='70%'), options=('Risk Price (Experts…"
      ]
     },
     "metadata": {},
     "output_type": "display_data"
    }
   ],
   "source": [
    "variableChoices   = defaultModel.label2Var.copy()\n",
    "removeList        = ['Value Function of Experts','Value Function of Households', \"Drift of Exogenous Growth\", \n",
    "                     \"Drift of Agg. Stochastic Variance\", \"Drift of Idio. Stochastic Variance\", \"Aggregate Consumption-to-Investment Ratio\", \n",
    "                     \"Wealth Share Drift\", \"Wealth Share Diffusion: Coordinate 1\"\n",
    "                    , \"Wealth Share Diffusion: Coordinate 2\", \"Wealth Share Diffusion: Coordinate 3\"]\n",
    "for k in removeList:\n",
    "    try:\n",
    "        variableChoices.pop(k, None)\n",
    "    except:\n",
    "        pass\n",
    "\n",
    "momentsBox.options = variableChoices.keys()\n",
    "display(momentsBox)"
   ]
  },
  {
   "cell_type": "code",
   "execution_count": 19,
   "metadata": {},
   "outputs": [
    {
     "data": {
      "application/vnd.jupyter.widget-view+json": {
       "model_id": "fe5ec26159f74a9697cdf6b17e02f207",
       "version_major": 2,
       "version_minor": 0
      },
      "text/plain": [
       "Button(description='Compute Moments', style=ButtonStyle())"
      ]
     },
     "metadata": {},
     "output_type": "display_data"
    }
   ],
   "source": [
    "display(computeMomentsButton)"
   ]
  },
  {
   "cell_type": "code",
   "execution_count": 20,
   "metadata": {
    "scrolled": false
   },
   "outputs": [
    {
     "data": {
      "application/vnd.jupyter.widget-view+json": {
       "model_id": "daf30e8dd0794a8b94f07cb4f5ea04a3",
       "version_major": 2,
       "version_minor": 0
      },
      "text/plain": [
       "Button(description='Compute Correlations', style=ButtonStyle())"
      ]
     },
     "metadata": {},
     "output_type": "display_data"
    }
   ],
   "source": [
    "display(computeCorrelationsButton)"
   ]
  },
  {
   "cell_type": "markdown",
   "metadata": {},
   "source": [
    "### Shock Elasticities"
   ]
  },
  {
   "cell_type": "code",
   "execution_count": 21,
   "metadata": {},
   "outputs": [
    {
     "data": {
      "application/vnd.jupyter.widget-view+json": {
       "model_id": "a4255654775941c79af7436283acfa4b",
       "version_major": 2,
       "version_minor": 0
      },
      "text/plain": [
       "Button(description='Display Shock Elasticities Panel', layout=Layout(width='50%'), style=ButtonStyle())"
      ]
     },
     "metadata": {},
     "output_type": "display_data"
    }
   ],
   "source": [
    "display(displayShockElasButton)"
   ]
  },
  {
   "cell_type": "code",
   "execution_count": 22,
   "metadata": {
    "scrolled": false
   },
   "outputs": [
    {
     "data": {
      "application/vnd.jupyter.widget-view+json": {
       "model_id": "f92bbc170ebb480598c2cf41a13b2461",
       "version_major": 2,
       "version_minor": 0
      },
      "text/plain": [
       "VBox(children=(Text(value='0.1, 0.5, 0.9', description='Wealth', layout=Layout(width='70%'), placeholder='0.1,…"
      ]
     },
     "metadata": {},
     "output_type": "display_data"
    }
   ],
   "source": [
    "displayShockElas(defaultModel.stateVarList)"
   ]
  },
  {
   "cell_type": "code",
   "execution_count": 23,
   "metadata": {},
   "outputs": [
    {
     "data": {
      "application/vnd.jupyter.widget-view+json": {
       "model_id": "6aea440ee30943869dd5b5626316e376",
       "version_major": 2,
       "version_minor": 0
      },
      "text/plain": [
       "Button(description='Compute Shock Elasticities', layout=Layout(width='50%'), style=ButtonStyle())"
      ]
     },
     "metadata": {},
     "output_type": "display_data"
    }
   ],
   "source": [
    "display(computeShockElasButton)"
   ]
  },
  {
   "cell_type": "code",
   "execution_count": 13,
   "metadata": {},
   "outputs": [
    {
     "data": {
      "application/vnd.jupyter.widget-view+json": {
       "model_id": "288c2148eb0d4e99a7845ae2b7c64089",
       "version_major": 2,
       "version_minor": 0
      },
      "text/plain": [
       "VBox(children=(Text(value='0.1, 0.5, 0.9', description='Wealth', layout=Layout(width='70%'), placeholder='0.1,…"
      ]
     },
     "metadata": {},
     "output_type": "display_data"
    },
    {
     "data": {
      "application/vnd.jupyter.widget-view+json": {
       "model_id": "3f05e30850d84410b65c833d6b9c9fff",
       "version_major": 2,
       "version_minor": 0
      },
      "text/plain": [
       "Button(description='Display Shock Elasticities Plot', layout=Layout(width='50%'), style=ButtonStyle())"
      ]
     },
     "metadata": {},
     "output_type": "display_data"
    }
   ],
   "source": [
    "displayShockElasPanel(defaultModel.stateVarList)\n",
    "display(displayShockElasPanelButton)"
   ]
  }
 ],
 "metadata": {
  "kernelspec": {
   "display_name": "Python 3",
   "language": "python",
   "name": "python3"
  },
  "language_info": {
   "codemirror_mode": {
    "name": "ipython",
    "version": 3
   },
   "file_extension": ".py",
   "mimetype": "text/x-python",
   "name": "python",
   "nbconvert_exporter": "python",
   "pygments_lexer": "ipython3",
   "version": "3.7.6"
  },
  "latex_envs": {
   "LaTeX_envs_menu_present": true,
   "autoclose": false,
   "autocomplete": true,
   "bibliofile": "biblio.bib",
   "cite_by": "apalike",
   "current_citInitial": 1,
   "eqLabelWithNumbers": true,
   "eqNumInitial": 1,
   "hotkeys": {
    "equation": "Ctrl-E",
    "itemize": "Ctrl-I"
   },
   "labels_anchors": false,
   "latex_user_defs": false,
   "report_style_numbering": false,
   "user_envs_cfg": false
  }
 },
 "nbformat": 4,
 "nbformat_minor": 2
}
