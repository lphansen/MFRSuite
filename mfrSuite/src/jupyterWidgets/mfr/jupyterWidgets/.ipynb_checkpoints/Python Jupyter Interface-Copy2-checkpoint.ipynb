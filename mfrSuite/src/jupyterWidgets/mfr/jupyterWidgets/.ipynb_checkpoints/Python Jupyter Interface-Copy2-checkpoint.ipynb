{
 "cells": [
  {
   "cell_type": "markdown",
   "metadata": {},
   "source": [
    "# Python Interface to Model Solution in Hansen, Khorrami and Tourre"
   ]
  },
  {
   "cell_type": "markdown",
   "metadata": {},
   "source": [
    "In this notebook, we will use the Python interface to solve a 1D model from the framework developed in Hansen, Khorrami, and Tourre (forthcoming). This notebook provides a user-friendly Dashboard such that you only need to specify the parameters in the box below."
   ]
  },
  {
   "cell_type": "code",
   "execution_count": 1,
   "metadata": {},
   "outputs": [
    {
     "data": {
      "application/javascript": [
       "Jupyter.notebook.execute_cells([3,4,5,6,7,8,9,14,15,16,17,18,19,20,21])"
      ],
      "text/plain": [
       "<IPython.core.display.Javascript object>"
      ]
     },
     "execution_count": 1,
     "metadata": {},
     "output_type": "execute_result"
    }
   ],
   "source": [
    "from IPython.display import Javascript\n",
    "Javascript(\"Jupyter.notebook.execute_cells([3,4,5,6,7,8,9,14,15,16,17,18,19,20,21])\")"
   ]
  },
  {
   "cell_type": "code",
   "execution_count": 2,
   "metadata": {
    "scrolled": true
   },
   "outputs": [
    {
     "data": {
      "text/html": [
       "<script>var waitForPlotly = setInterval( function() {if( typeof(window.Plotly) !== \"undefined\" ){MathJax.Hub.Config({ SVG: { font: \"STIX-Web\" }, displayAlign: \"center\" });MathJax.Hub.Queue([\"setRenderer\", MathJax.Hub, \"SVG\"]);clearInterval(waitForPlotly);}}, 250 );</script>"
      ],
      "text/plain": [
       "<IPython.core.display.HTML object>"
      ]
     },
     "metadata": {},
     "output_type": "display_data"
    }
   ],
   "source": [
    "%load_ext autoreload\n",
    "%autoreload 2\n",
    "%matplotlib inline \n",
    "\n",
    "\n",
    "## Load dependencies\n",
    "from mfm.modelSoln import *\n",
    "from mfm.jupyterWidgets import *\n",
    "from IPython.core.display import display, HTML\n",
    "\n",
    "display(HTML(\n",
    "    '<script>'\n",
    "        'var waitForPlotly = setInterval( function() {'\n",
    "            'if( typeof(window.Plotly) !== \"undefined\" ){'\n",
    "                'MathJax.Hub.Config({ SVG: { font: \"STIX-Web\" }, displayAlign: \"center\" });'\n",
    "                'MathJax.Hub.Queue([\"setRenderer\", MathJax.Hub, \"SVG\"]);'\n",
    "                'clearInterval(waitForPlotly);'\n",
    "            '}}, 250 );'\n",
    "    '</script>'\n",
    "))\n"
   ]
  },
  {
   "cell_type": "code",
   "execution_count": 3,
   "metadata": {},
   "outputs": [
    {
     "data": {
      "text/html": [
       "<script>\n",
       "code_show=true; \n",
       "function code_toggle() {\n",
       " if (code_show){\n",
       " $('div.input').hide();\n",
       " } else {\n",
       " $('div.input').show();\n",
       " }\n",
       " code_show = !code_show\n",
       "} \n",
       "$( document ).ready(code_toggle);\n",
       "</script>\n",
       "The raw code is by default hidden for easier reading.\n",
       "To toggle on/off the raw code, click <a href=\"javascript:code_toggle()\">here</a>."
      ],
      "text/plain": [
       "<IPython.core.display.HTML object>"
      ]
     },
     "execution_count": 3,
     "metadata": {},
     "output_type": "execute_result"
    }
   ],
   "source": [
    "HTML('''<script>\n",
    "code_show=true; \n",
    "function code_toggle() {\n",
    " if (code_show){\n",
    " $('div.input').hide();\n",
    " } else {\n",
    " $('div.input').show();\n",
    " }\n",
    " code_show = !code_show\n",
    "} \n",
    "$( document ).ready(code_toggle);\n",
    "</script>\n",
    "The raw code is by default hidden for easier reading.\n",
    "To toggle on/off the raw code, click <a href=\"javascript:code_toggle()\">here</a>.''')"
   ]
  },
  {
   "cell_type": "markdown",
   "metadata": {},
   "source": [
    "## Setting up parameters"
   ]
  },
  {
   "cell_type": "markdown",
   "metadata": {},
   "source": [
    "First, configure the parameters. Afterwards, click button `Update parameters` and `Run model`."
   ]
  },
  {
   "cell_type": "code",
   "execution_count": 4,
   "metadata": {},
   "outputs": [
    {
     "data": {
      "application/vnd.jupyter.widget-view+json": {
       "model_id": "c67613d34e2b48fa9f17040438796dac",
       "version_major": 2,
       "version_minor": 0
      },
      "text/plain": [
       "VBox(children=(HBox(children=(VBox(children=(Label(value='OLG'), BoundedFloatText(value=0.1, description=\"Expe…"
      ]
     },
     "metadata": {},
     "output_type": "display_data"
    },
    {
     "data": {
      "application/vnd.jupyter.widget-view+json": {
       "model_id": "99f698218de84d7d88b4f3905e410c03",
       "version_major": 2,
       "version_minor": 0
      },
      "text/plain": [
       "Dropdown(description='Can households hold capital', index=1, options=('Yes', 'No'), style=DescriptionStyle(des…"
      ]
     },
     "metadata": {},
     "output_type": "display_data"
    },
    {
     "data": {
      "application/vnd.jupyter.widget-view+json": {
       "model_id": "66e788740fda487fb14131828af7d5d7",
       "version_major": 2,
       "version_minor": 0
      },
      "text/plain": [
       "Output()"
      ]
     },
     "metadata": {},
     "output_type": "display_data"
    },
    {
     "data": {
      "application/vnd.jupyter.widget-view+json": {
       "model_id": "d239ccd51d64416e9ba6bb8c88514306",
       "version_major": 2,
       "version_minor": 0
      },
      "text/plain": [
       "Output()"
      ]
     },
     "metadata": {},
     "output_type": "display_data"
    },
    {
     "data": {
      "application/vnd.jupyter.widget-view+json": {
       "model_id": "5a861d7d6228427a8942f6ffcede8d6c",
       "version_major": 2,
       "version_minor": 0
      },
      "text/plain": [
       "Dropdown(description='Load solution from other models:', index=1, options=('Yes', 'No'), style=DescriptionStyl…"
      ]
     },
     "metadata": {},
     "output_type": "display_data"
    },
    {
     "data": {
      "application/vnd.jupyter.widget-view+json": {
       "model_id": "314484368adc458596aad371e6bd0aa0",
       "version_major": 2,
       "version_minor": 0
      },
      "text/plain": [
       "Output()"
      ]
     },
     "metadata": {},
     "output_type": "display_data"
    }
   ],
   "source": [
    "display(paramsPanel)\n",
    "display(hhCap)\n",
    "out = widgets.interactive_output(displayHHProd, {'hhCap': hhCap})\n",
    "display(out)\n",
    "\n",
    "def updateNShocks(*args):\n",
    "    sigmas = [sigma_s_norm.value, sigma_g_norm.value, sigma_varsigma_norm.value]\n",
    "    nShocks.value = len([s for s in sigmas if s > 0]) + 1\n",
    "sigma_s_norm.observe(updateNShocks, 'value')\n",
    "sigma_g_norm.observe(updateNShocks, 'value')\n",
    "sigma_varsigma_norm.observe(updateNShocks, 'value')\n",
    "\n",
    "out2 = widgets.interactive_output(displayShocks, {'nShocks': nShocks})\n",
    "display(out2)\n",
    "display(loadSolution)\n",
    "out3 = widgets.interactive_output(displayLoadSolution, {'loadSolution': loadSolution})\n",
    "display(out3)\n"
   ]
  },
  {
   "cell_type": "markdown",
   "metadata": {},
   "source": [
    "After configuring parameters, click `Update parameters` and then `Run model` to solve the mode."
   ]
  },
  {
   "cell_type": "code",
   "execution_count": 5,
   "metadata": {
    "scrolled": false
   },
   "outputs": [
    {
     "data": {
      "application/vnd.jupyter.widget-view+json": {
       "model_id": "2df444888656424fb174af47f0d8400b",
       "version_major": 2,
       "version_minor": 0
      },
      "text/plain": [
       "VBox(children=(Label(value='Execute Model'), Button(description='Update parameters', style=ButtonStyle()), But…"
      ]
     },
     "metadata": {},
     "output_type": "display_data"
    },
    {
     "name": "stdout",
     "output_type": "stream",
     "text": [
      "Parameters updated.\n",
      "Solving a 1-dimensional model...\n",
      "Program converged. Took 1837 iterations and 0.56 seconds. 10.95% of the time was spent on dealing with the linear systems.\n"
     ]
    },
    {
     "data": {
      "application/javascript": [
       "Jupyter.notebook.execute_cells([19,20,21,22])"
      ],
      "text/plain": [
       "<IPython.core.display.Javascript object>"
      ]
     },
     "metadata": {},
     "output_type": "display_data"
    },
    {
     "name": "stdout",
     "output_type": "stream",
     "text": [
      "Computing stationary density...\n",
      "Finished computing stationary density.\n"
     ]
    }
   ],
   "source": [
    "display(run_box)"
   ]
  },
  {
   "cell_type": "markdown",
   "metadata": {},
   "source": [
    "## Model Results"
   ]
  },
  {
   "cell_type": "markdown",
   "metadata": {},
   "source": [
    "### Plots"
   ]
  },
  {
   "cell_type": "code",
   "execution_count": 16,
   "metadata": {
    "scrolled": false
   },
   "outputs": [
    {
     "data": {
      "application/vnd.jupyter.widget-view+json": {
       "model_id": "281f9ca16d024cfcadba369e4f2ae86c",
       "version_major": 2,
       "version_minor": 0
      },
      "text/plain": [
       "HBox(children=(Dropdown(description='Left', index=3, options={'Risk Price (Experts): TFP Shock': 'piE1()', 'Ri…"
      ]
     },
     "metadata": {},
     "output_type": "display_data"
    },
    {
     "data": {
      "application/vnd.jupyter.widget-view+json": {
       "model_id": "fcda9f67b3b4486f9d264508d031154f",
       "version_major": 2,
       "version_minor": 0
      },
      "text/plain": [
       "Output()"
      ]
     },
     "metadata": {},
     "output_type": "display_data"
    }
   ],
   "source": [
    "clear_output()\n",
    "plotVar1.value    = 'chi()'\n",
    "\n",
    "if defaultModel.params['nDims'] == 1:\n",
    "    ui = widgets.HBox([plotVar1, plotVar2], layout = box_layout)\n",
    "else:\n",
    "    plotVar1.description = 'Variable'\n",
    "    ui = widgets.HBox([plotVar1], layout = box_layout)\n",
    "display(ui)\n",
    "panel = widgets.interactive(defaultModel.plotPanel, varName1 = plotVar1, varName2 = plotVar2)\n",
    "    \n",
    "display(panel.children[-1])\n",
    "plotVar1.value    = 'piE1()'\n",
    "plotVar2.value    = 'piH1()'"
   ]
  },
  {
   "cell_type": "markdown",
   "metadata": {},
   "source": [
    "## Diagnostics"
   ]
  },
  {
   "cell_type": "markdown",
   "metadata": {},
   "source": [
    "### Moments"
   ]
  },
  {
   "cell_type": "code",
   "execution_count": 6,
   "metadata": {
    "scrolled": true
   },
   "outputs": [
    {
     "data": {
      "application/vnd.jupyter.widget-view+json": {
       "model_id": "b872b336cd1d40cb863ea8d98fe5c338",
       "version_major": 2,
       "version_minor": 0
      },
      "text/plain": [
       "SelectMultiple(description='Equilibrium Quantities', index=(0,), layout=Layout(width='70%'), options=('Risk Pr…"
      ]
     },
     "metadata": {},
     "output_type": "display_data"
    }
   ],
   "source": [
    "display(momentsBox)"
   ]
  },
  {
   "cell_type": "code",
   "execution_count": 7,
   "metadata": {},
   "outputs": [
    {
     "data": {
      "application/vnd.jupyter.widget-view+json": {
       "model_id": "821a4cf72ddc4580b322f698d0c456f1",
       "version_major": 2,
       "version_minor": 0
      },
      "text/plain": [
       "Button(description='Compute Moments', style=ButtonStyle())"
      ]
     },
     "metadata": {},
     "output_type": "display_data"
    }
   ],
   "source": [
    "display(computeMomentsButton)"
   ]
  },
  {
   "cell_type": "code",
   "execution_count": 8,
   "metadata": {
    "scrolled": false
   },
   "outputs": [
    {
     "data": {
      "application/vnd.jupyter.widget-view+json": {
       "model_id": "a16748d5e405499bafa15489de24ab86",
       "version_major": 2,
       "version_minor": 0
      },
      "text/plain": [
       "Button(description='Compute Correlations', style=ButtonStyle())"
      ]
     },
     "metadata": {},
     "output_type": "display_data"
    }
   ],
   "source": [
    "display(computeCorrelationsButton)"
   ]
  },
  {
   "cell_type": "markdown",
   "metadata": {},
   "source": [
    "### Shock Elasticities"
   ]
  },
  {
   "cell_type": "code",
   "execution_count": 12,
   "metadata": {},
   "outputs": [
    {
     "data": {
      "application/vnd.jupyter.widget-view+json": {
       "model_id": "bbad239b34eb433aaeea7b8d32137489",
       "version_major": 2,
       "version_minor": 0
      },
      "text/plain": [
       "Button(description='Display Shock Elasticities Panel', layout=Layout(width='50%'), style=ButtonStyle())"
      ]
     },
     "metadata": {},
     "output_type": "display_data"
    }
   ],
   "source": [
    "display(displayShockElasButton)"
   ]
  },
  {
   "cell_type": "code",
   "execution_count": 13,
   "metadata": {},
   "outputs": [
    {
     "data": {
      "application/vnd.jupyter.widget-view+json": {
       "model_id": "54e219db83e640f2a4baa09ddb274d5b",
       "version_major": 2,
       "version_minor": 0
      },
      "text/plain": [
       "VBox(children=(Text(value='0.1, 0.5, 0.9', description='Pcts of wealth', layout=Layout(width='70%'), placehold…"
      ]
     },
     "metadata": {},
     "output_type": "display_data"
    }
   ],
   "source": [
    "displayShockElas(defaultModel.stateVarList)"
   ]
  },
  {
   "cell_type": "code",
   "execution_count": 14,
   "metadata": {},
   "outputs": [
    {
     "data": {
      "application/vnd.jupyter.widget-view+json": {
       "model_id": "d3269c6a44684139a38fa640c06fbf2a",
       "version_major": 2,
       "version_minor": 0
      },
      "text/plain": [
       "Button(description='Compute Shock Elasticities', layout=Layout(width='50%'), style=ButtonStyle())"
      ]
     },
     "metadata": {},
     "output_type": "display_data"
    }
   ],
   "source": [
    "display(computeShockElasButton)"
   ]
  },
  {
   "cell_type": "code",
   "execution_count": 15,
   "metadata": {
    "scrolled": false
   },
   "outputs": [
    {
     "data": {
      "application/vnd.jupyter.widget-view+json": {
       "model_id": "16395dcc6b304f01986cf7b59a74f3a7",
       "version_major": 2,
       "version_minor": 0
      },
      "text/plain": [
       "VBox(children=(Text(value='0.1, 0.5, 0.9', description='Pcts of wealth', layout=Layout(width='70%'), placehold…"
      ]
     },
     "metadata": {},
     "output_type": "display_data"
    },
    {
     "data": {
      "application/vnd.jupyter.widget-view+json": {
       "model_id": "1a688f02740d4bf398f4e9c11f0ec326",
       "version_major": 2,
       "version_minor": 0
      },
      "text/plain": [
       "Button(description='Display Shock Elasticities Plot', layout=Layout(width='50%'), style=ButtonStyle())"
      ]
     },
     "metadata": {},
     "output_type": "display_data"
    }
   ],
   "source": [
    "displayShockElasPanel(defaultModel.stateVarList)\n",
    "display(displayShockElasPanelButton)"
   ]
  },
  {
   "cell_type": "code",
   "execution_count": 38,
   "metadata": {},
   "outputs": [
    {
     "data": {
      "application/vnd.jupyter.widget-view+json": {
       "model_id": "1ab17f5cea09417a8c447e35cb32149f",
       "version_major": 2,
       "version_minor": 0
      },
      "text/plain": [
       "FloatSlider(value=1e-05, description='Idio. vol.', max=0.15294600639311706, min=1e-05, step=0.001)"
      ]
     },
     "metadata": {},
     "output_type": "display_data"
    },
    {
     "data": {
      "application/vnd.jupyter.widget-view+json": {
       "model_id": "eb65613d254d4f45b438741d27164778",
       "version_major": 2,
       "version_minor": 0
      },
      "text/plain": [
       "Output()"
      ]
     },
     "metadata": {},
     "output_type": "display_data"
    },
    {
     "data": {
      "application/vnd.jupyter.widget-view+json": {
       "model_id": "da69b83464fb46efb528058f05e9b177",
       "version_major": 2,
       "version_minor": 0
      },
      "text/plain": [
       "FigureWidget({\n",
       "    'data': [{'colorscale': 'Viridis',\n",
       "              'type': 'surface',\n",
       "              'uid': '8…"
      ]
     },
     "metadata": {},
     "output_type": "display_data"
    }
   ],
   "source": [
    "\n",
    "import plotly.graph_objs as go\n",
    "import plotly.offline as py\n",
    "\n",
    "import numpy as np\n",
    "from ipywidgets import interactive, HBox, VBox\n",
    "\n",
    "\n",
    "f = go.FigureWidget(\n",
    "    data=[\n",
    "        go.Surface(z=defaultModel.q().reshape(defaultModel.gridSizeList, order = 'F')[:,:,1], x=defaultModel.w().reshape(defaultModel.gridSizeList, order = 'F')[:,:,1], \n",
    "                   y=defaultModel.g().reshape(defaultModel.gridSizeList, order = 'F')[:,:,1],\n",
    "                   colorscale='Viridis')],\n",
    "    layout=go.Layout(    autosize=False,\n",
    "    title='Experts Equity Holdings',\n",
    "    height = 900,\n",
    "    width  = 800,\n",
    "    scene=dict(\n",
    "        xaxis=dict(\n",
    "            gridcolor='rgb(255, 255, 255)',\n",
    "            zerolinecolor='rgb(255, 255, 255)',\n",
    "            showbackground=True,\n",
    "            backgroundcolor='rgb(230, 230,230)',\n",
    "            title = 'Wealth'\n",
    "        ),\n",
    "        yaxis=dict(\n",
    "            gridcolor='rgb(255, 255, 255)',\n",
    "            zerolinecolor='rgb(255, 255, 255)',\n",
    "            showbackground=True,\n",
    "            backgroundcolor='rgb(230, 230,230)',\n",
    "            title = 'Growth'\n",
    "        ),\n",
    "        zaxis=dict(\n",
    "            gridcolor='rgb(255, 255, 255)',\n",
    "            zerolinecolor='rgb(255, 255, 255)',\n",
    "            showbackground=True,\n",
    "            backgroundcolor='rgb(230, 230,230)',\n",
    "            range = (np.min(defaultModel.q()), np.max(defaultModel.q()))\n",
    "        ), aspectratio=dict(x=1.0,\n",
    "                                             y=0.8,\n",
    "                                             z=0.8),\n",
    "                           \n",
    "    camera=go.layout.scene.Camera(\n",
    "            up=dict(x=0, y=0, z=1),\n",
    "            center=dict(x=0, y=0, z=0),\n",
    "            eye=dict(x=1.25, y=1.25, z=1.25))\n",
    "    ))\n",
    ")\n",
    "\n",
    "\n",
    "def update_z(varsigmaVal):\n",
    "    pt = np.argmin(np.abs(np.unique(defaultModel.varsigma()) - varsigmaVal))\n",
    "    f.data[0].z = defaultModel.q().reshape(defaultModel.gridSizeList, order = 'F')[:,:,int(pt)]\n",
    "\n",
    "\n",
    "a = widgets.FloatSlider(min = np.min(defaultModel.varsigma()), \n",
    "                        max = np.max(defaultModel.varsigma()),step = 0.001, description = 'Idio. vol.')\n",
    "freq_slider = widgets.interactive_output(update_z, {'varsigmaVal':a})\n",
    "display(a)\n",
    "vb = VBox((f, freq_slider))\n",
    "vb.layout.align_items = 'center'\n",
    "display(freq_slider)\n",
    "display(f)"
   ]
  },
  {
   "cell_type": "code",
   "execution_count": 16,
   "metadata": {},
   "outputs": [
    {
     "data": {
      "text/html": [
       "<script>requirejs.config({paths: { 'plotly': ['https://cdn.plot.ly/plotly-latest.min']},});if(!window.Plotly) {{require(['plotly'],function(plotly) {window.Plotly=plotly;});}}</script>"
      ],
      "text/vnd.plotly.v1+html": [
       "<script>requirejs.config({paths: { 'plotly': ['https://cdn.plot.ly/plotly-latest.min']},});if(!window.Plotly) {{require(['plotly'],function(plotly) {window.Plotly=plotly;});}}</script>"
      ]
     },
     "metadata": {},
     "output_type": "display_data"
    },
    {
     "data": {
      "application/vnd.plotly.v1+json": {
       "data": [
        {
         "mode": "lines",
         "type": "scatter",
         "uid": "bec568d0-ec4d-11e8-81f0-6c4008aecb22",
         "x": [
          0.01,
          0.0198989898989899,
          0.029797979797979796,
          0.039696969696969696,
          0.049595959595959596,
          0.059494949494949496,
          0.06939393939393938,
          0.07929292929292929,
          0.08919191919191918,
          0.09909090909090908,
          0.10898989898989898,
          0.11888888888888888,
          0.12878787878787878,
          0.1386868686868687,
          0.1485858585858586,
          0.15848484848484848,
          0.16838383838383839,
          0.1782828282828283,
          0.18818181818181817,
          0.19808080808080808,
          0.207979797979798,
          0.21787878787878787,
          0.22777777777777777,
          0.23767676767676768,
          0.24757575757575756,
          0.25747474747474747,
          0.2673737373737374,
          0.2772727272727273,
          0.2871717171717172,
          0.29707070707070704,
          0.30696969696969695,
          0.31686868686868686,
          0.32676767676767676,
          0.33666666666666667,
          0.3465656565656566,
          0.3564646464646465,
          0.36636363636363634,
          0.37626262626262624,
          0.38616161616161615,
          0.39606060606060606,
          0.40595959595959596,
          0.41585858585858587,
          0.4257575757575757,
          0.43565656565656563,
          0.44555555555555554,
          0.45545454545454545,
          0.46535353535353535,
          0.47525252525252526,
          0.4851515151515151,
          0.495050505050505,
          0.5049494949494949,
          0.5148484848484849,
          0.5247474747474747,
          0.5346464646464646,
          0.5445454545454546,
          0.5544444444444444,
          0.5643434343434344,
          0.5742424242424242,
          0.5841414141414141,
          0.594040404040404,
          0.6039393939393939,
          0.6138383838383838,
          0.6237373737373737,
          0.6336363636363637,
          0.6435353535353535,
          0.6534343434343434,
          0.6633333333333333,
          0.6732323232323232,
          0.6831313131313131,
          0.693030303030303,
          0.702929292929293,
          0.7128282828282828,
          0.7227272727272727,
          0.7326262626262626,
          0.7425252525252525,
          0.7524242424242424,
          0.7623232323232323,
          0.7722222222222221,
          0.7821212121212121,
          0.792020202020202,
          0.8019191919191919,
          0.8118181818181818,
          0.8217171717171717,
          0.8316161616161616,
          0.8415151515151514,
          0.8514141414141414,
          0.8613131313131313,
          0.8712121212121212,
          0.8811111111111111,
          0.891010101010101,
          0.9009090909090909,
          0.9108080808080807,
          0.9207070707070707,
          0.9306060606060605,
          0.9405050505050505,
          0.9504040404040404,
          0.9603030303030302,
          0.9702020202020202,
          0.98010101010101,
          0.99
         ],
         "y": [
          1.6873225344574858,
          1.6873225344574858,
          1.6873225344574858,
          1.6873225344574858,
          1.687322534457486,
          1.6873225344574858,
          1.6873225344574858,
          1.6873225344574858,
          1.6873225344574858,
          1.6873225344574858,
          1.6873225344574858,
          1.6873225344574858,
          1.6873225344574858,
          1.6873225344574858,
          1.6873225344574858,
          1.6873225344574858,
          1.6873225344574858,
          1.6873225344574858,
          1.6873225344574858,
          1.6873225344574858,
          1.6873225344574858,
          1.6873225344574858,
          1.6873225344574858,
          1.6873225344574858,
          1.6873225344574858,
          1.6873225344574858,
          1.6873225344574858,
          1.687322534457486,
          1.6873225344574858,
          1.6873225344574858,
          1.6873225344574858,
          1.6873225344574858,
          1.6873225344574858,
          1.6873225344574858,
          1.6873225344574858,
          1.6873225344574858,
          1.6873225344574858,
          1.6873225344574858,
          1.6873225344574858,
          1.6873225344574858,
          1.6873225344574858,
          1.6873225344574858,
          1.6873225344574858,
          1.6873225344574858,
          1.6873225344574858,
          1.6873225344574858,
          1.6873225344574858,
          1.6873225344574858,
          1.6873225344574858,
          1.6873225344574858,
          1.6873225344574858,
          1.6873225344574858,
          1.6873225344574858,
          1.6873225344574858,
          1.6873225344574858,
          1.6873225344574858,
          1.6873225344574858,
          1.6873225344574858,
          1.6873225344574858,
          1.6873225344574858,
          1.6873225344574858,
          1.6873225344574858,
          1.6873225344574858,
          1.6873225344574858,
          1.6873225344574858,
          1.6873225344574858,
          1.6873225344574858,
          1.6873225344574858,
          1.6873225344574858,
          1.6873225344574858,
          1.6873225344574858,
          1.6873225344574858,
          1.6873225344574858,
          1.6873225344574858,
          1.6873225344574858,
          1.6873225344574858,
          1.6873225344574858,
          1.6873225344574858,
          1.6873225344574858,
          1.6873225344574858,
          1.6873225344574858,
          1.6873225344574858,
          1.6873225344574858,
          1.6873225344574858,
          1.6873225344574858,
          1.6873225344574858,
          1.6873225344574858,
          1.6873225344574858,
          1.6873225344574858,
          1.6873225344574858,
          1.6873225344574858,
          1.6873225344574858,
          1.6873225344574858,
          1.6873225344574858,
          1.6873225344574858,
          1.6873225344574858,
          1.6873225344574858,
          1.6873225344574858,
          1.6873225344574858,
          1.6873225344574858
         ],
         "yaxis": "y"
        },
        {
         "fill": "tozeroy",
         "fillcolor": "rgba(66, 134, 244, 0.1)",
         "hoverinfo": "none",
         "mode": "none",
         "showlegend": false,
         "type": "scatter",
         "uid": "bec6e3a4-ec4d-11e8-9f7d-6c4008aecb22",
         "x": [
          0.01,
          0.0198989898989899,
          0.029797979797979796,
          0.039696969696969696,
          0.049595959595959596,
          0.059494949494949496,
          0.06939393939393938,
          0.07929292929292929,
          0.08919191919191918,
          0.09909090909090908,
          0.10898989898989898,
          0.11888888888888888,
          0.12878787878787878,
          0.1386868686868687,
          0.1485858585858586,
          0.15848484848484848,
          0.16838383838383839,
          0.1782828282828283,
          0.18818181818181817,
          0.19808080808080808,
          0.207979797979798,
          0.21787878787878787,
          0.22777777777777777,
          0.23767676767676768,
          0.24757575757575756,
          0.25747474747474747,
          0.2673737373737374,
          0.2772727272727273,
          0.2871717171717172,
          0.29707070707070704,
          0.30696969696969695,
          0.31686868686868686,
          0.32676767676767676,
          0.33666666666666667,
          0.3465656565656566,
          0.3564646464646465,
          0.36636363636363634,
          0.37626262626262624,
          0.38616161616161615,
          0.39606060606060606,
          0.40595959595959596,
          0.41585858585858587,
          0.4257575757575757,
          0.43565656565656563,
          0.44555555555555554,
          0.45545454545454545,
          0.46535353535353535,
          0.47525252525252526,
          0.4851515151515151,
          0.495050505050505,
          0.5049494949494949,
          0.5148484848484849,
          0.5247474747474747,
          0.5346464646464646,
          0.5445454545454546,
          0.5544444444444444,
          0.5643434343434344,
          0.5742424242424242,
          0.5841414141414141,
          0.594040404040404,
          0.6039393939393939,
          0.6138383838383838,
          0.6237373737373737,
          0.6336363636363637,
          0.6435353535353535,
          0.6534343434343434,
          0.6633333333333333,
          0.6732323232323232,
          0.6831313131313131,
          0.693030303030303,
          0.702929292929293,
          0.7128282828282828,
          0.7227272727272727,
          0.7326262626262626,
          0.7425252525252525,
          0.7524242424242424,
          0.7623232323232323,
          0.7722222222222221,
          0.7821212121212121,
          0.792020202020202,
          0.8019191919191919,
          0.8118181818181818,
          0.8217171717171717,
          0.8316161616161616,
          0.8415151515151514,
          0.8514141414141414,
          0.8613131313131313,
          0.8712121212121212,
          0.8811111111111111,
          0.891010101010101,
          0.9009090909090909,
          0.9108080808080807,
          0.9207070707070707,
          0.9306060606060605,
          0.9405050505050505,
          0.9504040404040404,
          0.9603030303030302,
          0.9702020202020202,
          0.98010101010101,
          0.99
         ],
         "y": [
          1.0903633431548898e-05,
          0.0005853382398329946,
          0.0012827086643950822,
          0.0023619829621150832,
          0.003926285035382493,
          0.006090592010366046,
          0.008976396648394072,
          0.012703101068603872,
          0.017375300203699765,
          0.02306535897399235,
          0.029791176347066996,
          0.03748988224637826,
          0.04598952233585777,
          0.05498257941538217,
          0.06400735236142666,
          0.07244542554644812,
          0.07951167264897482,
          0.08133380034656226,
          0.08015670263481998,
          0.07596928036004937,
          0.06909053952702782,
          0.060143601482737175,
          0.049970435197750164,
          0.0395006805964892,
          0.029602383371063405,
          0.020950015452273586,
          0.013941735583883366,
          0.008683371156582962,
          0.00503589592910978,
          0.002704331019269449,
          0.0013365929718231456,
          0.0006039763063696558,
          0.00024773441879405016,
          9.151058807342495e-05,
          3.0179885360817334e-05,
          8.802137805199975e-06,
          2.246479495381936e-06,
          4.958517569286122e-07,
          9.340869600642563e-08,
          1.4793359039513831e-08,
          1.9357277231997808e-09,
          2.0505513986924903e-10,
          1.7161607691496702e-11,
          1.1013377312226745e-12,
          5.218350974627801e-14,
          1.7369428700207435e-15,
          3.790667473529311e-17,
          4.893480008541822e-19,
          3.1466935819662065e-21,
          7.101693128890785e-24,
          1.736008796785497e-27,
          0,
          0,
          0,
          0,
          0,
          0,
          0,
          0,
          0,
          0,
          0,
          0,
          0,
          0,
          0,
          0,
          0,
          0,
          0,
          0,
          0,
          0,
          0,
          0,
          0,
          0,
          0,
          0,
          0,
          0,
          0,
          0,
          0,
          0,
          0,
          0,
          0,
          0,
          0,
          0,
          0,
          0,
          0,
          0,
          0,
          0,
          0,
          0,
          0
         ],
         "yaxis": "y2"
        }
       ],
       "layout": {
        "height": 500,
        "title": "Capital Price",
        "width": 500,
        "xaxis": {
         "title": "Wealth Share"
        },
        "yaxis": {
         "range": [
          1.4873225344574859,
          1.887322534457486
         ]
        },
        "yaxis2": {
         "overlaying": "y",
         "range": [
          0,
          0.08133380034656226
         ],
         "showgrid": false,
         "showline": false,
         "showticklabels": false,
         "side": "right",
         "ticks": "",
         "zeroline": false
        }
       }
      },
      "text/html": [
       "<div id=\"f98b1c32-870f-47dc-bc99-ad11027705bd\" style=\"height: 500px; width: 500px;\" class=\"plotly-graph-div\"></div><script type=\"text/javascript\">require([\"plotly\"], function(Plotly) { window.PLOTLYENV=window.PLOTLYENV || {};window.PLOTLYENV.BASE_URL=\"https://plot.ly\";Plotly.newPlot(\"f98b1c32-870f-47dc-bc99-ad11027705bd\", [{\"mode\": \"lines\", \"x\": [0.01, 0.0198989898989899, 0.029797979797979796, 0.039696969696969696, 0.049595959595959596, 0.059494949494949496, 0.06939393939393938, 0.07929292929292929, 0.08919191919191918, 0.09909090909090908, 0.10898989898989898, 0.11888888888888888, 0.12878787878787878, 0.1386868686868687, 0.1485858585858586, 0.15848484848484848, 0.16838383838383839, 0.1782828282828283, 0.18818181818181817, 0.19808080808080808, 0.207979797979798, 0.21787878787878787, 0.22777777777777777, 0.23767676767676768, 0.24757575757575756, 0.25747474747474747, 0.2673737373737374, 0.2772727272727273, 0.2871717171717172, 0.29707070707070704, 0.30696969696969695, 0.31686868686868686, 0.32676767676767676, 0.33666666666666667, 0.3465656565656566, 0.3564646464646465, 0.36636363636363634, 0.37626262626262624, 0.38616161616161615, 0.39606060606060606, 0.40595959595959596, 0.41585858585858587, 0.4257575757575757, 0.43565656565656563, 0.44555555555555554, 0.45545454545454545, 0.46535353535353535, 0.47525252525252526, 0.4851515151515151, 0.495050505050505, 0.5049494949494949, 0.5148484848484849, 0.5247474747474747, 0.5346464646464646, 0.5445454545454546, 0.5544444444444444, 0.5643434343434344, 0.5742424242424242, 0.5841414141414141, 0.594040404040404, 0.6039393939393939, 0.6138383838383838, 0.6237373737373737, 0.6336363636363637, 0.6435353535353535, 0.6534343434343434, 0.6633333333333333, 0.6732323232323232, 0.6831313131313131, 0.693030303030303, 0.702929292929293, 0.7128282828282828, 0.7227272727272727, 0.7326262626262626, 0.7425252525252525, 0.7524242424242424, 0.7623232323232323, 0.7722222222222221, 0.7821212121212121, 0.792020202020202, 0.8019191919191919, 0.8118181818181818, 0.8217171717171717, 0.8316161616161616, 0.8415151515151514, 0.8514141414141414, 0.8613131313131313, 0.8712121212121212, 0.8811111111111111, 0.891010101010101, 0.9009090909090909, 0.9108080808080807, 0.9207070707070707, 0.9306060606060605, 0.9405050505050505, 0.9504040404040404, 0.9603030303030302, 0.9702020202020202, 0.98010101010101, 0.99], \"y\": [1.6873225344574858, 1.6873225344574858, 1.6873225344574858, 1.6873225344574858, 1.687322534457486, 1.6873225344574858, 1.6873225344574858, 1.6873225344574858, 1.6873225344574858, 1.6873225344574858, 1.6873225344574858, 1.6873225344574858, 1.6873225344574858, 1.6873225344574858, 1.6873225344574858, 1.6873225344574858, 1.6873225344574858, 1.6873225344574858, 1.6873225344574858, 1.6873225344574858, 1.6873225344574858, 1.6873225344574858, 1.6873225344574858, 1.6873225344574858, 1.6873225344574858, 1.6873225344574858, 1.6873225344574858, 1.687322534457486, 1.6873225344574858, 1.6873225344574858, 1.6873225344574858, 1.6873225344574858, 1.6873225344574858, 1.6873225344574858, 1.6873225344574858, 1.6873225344574858, 1.6873225344574858, 1.6873225344574858, 1.6873225344574858, 1.6873225344574858, 1.6873225344574858, 1.6873225344574858, 1.6873225344574858, 1.6873225344574858, 1.6873225344574858, 1.6873225344574858, 1.6873225344574858, 1.6873225344574858, 1.6873225344574858, 1.6873225344574858, 1.6873225344574858, 1.6873225344574858, 1.6873225344574858, 1.6873225344574858, 1.6873225344574858, 1.6873225344574858, 1.6873225344574858, 1.6873225344574858, 1.6873225344574858, 1.6873225344574858, 1.6873225344574858, 1.6873225344574858, 1.6873225344574858, 1.6873225344574858, 1.6873225344574858, 1.6873225344574858, 1.6873225344574858, 1.6873225344574858, 1.6873225344574858, 1.6873225344574858, 1.6873225344574858, 1.6873225344574858, 1.6873225344574858, 1.6873225344574858, 1.6873225344574858, 1.6873225344574858, 1.6873225344574858, 1.6873225344574858, 1.6873225344574858, 1.6873225344574858, 1.6873225344574858, 1.6873225344574858, 1.6873225344574858, 1.6873225344574858, 1.6873225344574858, 1.6873225344574858, 1.6873225344574858, 1.6873225344574858, 1.6873225344574858, 1.6873225344574858, 1.6873225344574858, 1.6873225344574858, 1.6873225344574858, 1.6873225344574858, 1.6873225344574858, 1.6873225344574858, 1.6873225344574858, 1.6873225344574858, 1.6873225344574858, 1.6873225344574858], \"yaxis\": \"y\", \"type\": \"scatter\", \"uid\": \"bec568d0-ec4d-11e8-81f0-6c4008aecb22\"}, {\"fill\": \"tozeroy\", \"fillcolor\": \"rgba(66, 134, 244, 0.1)\", \"hoverinfo\": \"none\", \"mode\": \"none\", \"showlegend\": false, \"x\": [0.01, 0.0198989898989899, 0.029797979797979796, 0.039696969696969696, 0.049595959595959596, 0.059494949494949496, 0.06939393939393938, 0.07929292929292929, 0.08919191919191918, 0.09909090909090908, 0.10898989898989898, 0.11888888888888888, 0.12878787878787878, 0.1386868686868687, 0.1485858585858586, 0.15848484848484848, 0.16838383838383839, 0.1782828282828283, 0.18818181818181817, 0.19808080808080808, 0.207979797979798, 0.21787878787878787, 0.22777777777777777, 0.23767676767676768, 0.24757575757575756, 0.25747474747474747, 0.2673737373737374, 0.2772727272727273, 0.2871717171717172, 0.29707070707070704, 0.30696969696969695, 0.31686868686868686, 0.32676767676767676, 0.33666666666666667, 0.3465656565656566, 0.3564646464646465, 0.36636363636363634, 0.37626262626262624, 0.38616161616161615, 0.39606060606060606, 0.40595959595959596, 0.41585858585858587, 0.4257575757575757, 0.43565656565656563, 0.44555555555555554, 0.45545454545454545, 0.46535353535353535, 0.47525252525252526, 0.4851515151515151, 0.495050505050505, 0.5049494949494949, 0.5148484848484849, 0.5247474747474747, 0.5346464646464646, 0.5445454545454546, 0.5544444444444444, 0.5643434343434344, 0.5742424242424242, 0.5841414141414141, 0.594040404040404, 0.6039393939393939, 0.6138383838383838, 0.6237373737373737, 0.6336363636363637, 0.6435353535353535, 0.6534343434343434, 0.6633333333333333, 0.6732323232323232, 0.6831313131313131, 0.693030303030303, 0.702929292929293, 0.7128282828282828, 0.7227272727272727, 0.7326262626262626, 0.7425252525252525, 0.7524242424242424, 0.7623232323232323, 0.7722222222222221, 0.7821212121212121, 0.792020202020202, 0.8019191919191919, 0.8118181818181818, 0.8217171717171717, 0.8316161616161616, 0.8415151515151514, 0.8514141414141414, 0.8613131313131313, 0.8712121212121212, 0.8811111111111111, 0.891010101010101, 0.9009090909090909, 0.9108080808080807, 0.9207070707070707, 0.9306060606060605, 0.9405050505050505, 0.9504040404040404, 0.9603030303030302, 0.9702020202020202, 0.98010101010101, 0.99], \"y\": [1.0903633431548898e-05, 0.0005853382398329946, 0.0012827086643950822, 0.0023619829621150832, 0.003926285035382493, 0.006090592010366046, 0.008976396648394072, 0.012703101068603872, 0.017375300203699765, 0.02306535897399235, 0.029791176347066996, 0.03748988224637826, 0.04598952233585777, 0.05498257941538217, 0.06400735236142666, 0.07244542554644812, 0.07951167264897482, 0.08133380034656226, 0.08015670263481998, 0.07596928036004937, 0.06909053952702782, 0.060143601482737175, 0.049970435197750164, 0.0395006805964892, 0.029602383371063405, 0.020950015452273586, 0.013941735583883366, 0.008683371156582962, 0.00503589592910978, 0.002704331019269449, 0.0013365929718231456, 0.0006039763063696558, 0.00024773441879405016, 9.151058807342495e-05, 3.0179885360817334e-05, 8.802137805199975e-06, 2.246479495381936e-06, 4.958517569286122e-07, 9.340869600642563e-08, 1.4793359039513831e-08, 1.9357277231997808e-09, 2.0505513986924903e-10, 1.7161607691496702e-11, 1.1013377312226745e-12, 5.218350974627801e-14, 1.7369428700207435e-15, 3.790667473529311e-17, 4.893480008541822e-19, 3.1466935819662065e-21, 7.101693128890785e-24, 1.736008796785497e-27, 0.0, 0.0, 0.0, 0.0, 0.0, 0.0, 0.0, 0.0, 0.0, 0.0, 0.0, 0.0, 0.0, 0.0, 0.0, 0.0, 0.0, 0.0, 0.0, 0.0, 0.0, 0.0, 0.0, 0.0, 0.0, 0.0, 0.0, 0.0, 0.0, 0.0, 0.0, 0.0, 0.0, 0.0, 0.0, 0.0, 0.0, 0.0, 0.0, 0.0, 0.0, 0.0, 0.0, 0.0, 0.0, 0.0, 0.0, 0.0, 0.0], \"yaxis\": \"y2\", \"type\": \"scatter\", \"uid\": \"bec6e3a4-ec4d-11e8-9f7d-6c4008aecb22\"}], {\"height\": 500, \"title\": \"Capital Price\", \"width\": 500, \"xaxis\": {\"title\": \"Wealth Share\"}, \"yaxis2\": {\"overlaying\": \"y\", \"range\": [0, 0.08133380034656226], \"showgrid\": false, \"showline\": false, \"showticklabels\": false, \"side\": \"right\", \"ticks\": \"\", \"zeroline\": false}, \"yaxis\": {\"range\": [1.4873225344574859, 1.887322534457486]}}, {\"showLink\": false, \"linkText\": \"Export to plot.ly\", \"displayModeBar\": false})});</script>"
      ],
      "text/vnd.plotly.v1+html": [
       "<div id=\"f98b1c32-870f-47dc-bc99-ad11027705bd\" style=\"height: 500px; width: 500px;\" class=\"plotly-graph-div\"></div><script type=\"text/javascript\">require([\"plotly\"], function(Plotly) { window.PLOTLYENV=window.PLOTLYENV || {};window.PLOTLYENV.BASE_URL=\"https://plot.ly\";Plotly.newPlot(\"f98b1c32-870f-47dc-bc99-ad11027705bd\", [{\"mode\": \"lines\", \"x\": [0.01, 0.0198989898989899, 0.029797979797979796, 0.039696969696969696, 0.049595959595959596, 0.059494949494949496, 0.06939393939393938, 0.07929292929292929, 0.08919191919191918, 0.09909090909090908, 0.10898989898989898, 0.11888888888888888, 0.12878787878787878, 0.1386868686868687, 0.1485858585858586, 0.15848484848484848, 0.16838383838383839, 0.1782828282828283, 0.18818181818181817, 0.19808080808080808, 0.207979797979798, 0.21787878787878787, 0.22777777777777777, 0.23767676767676768, 0.24757575757575756, 0.25747474747474747, 0.2673737373737374, 0.2772727272727273, 0.2871717171717172, 0.29707070707070704, 0.30696969696969695, 0.31686868686868686, 0.32676767676767676, 0.33666666666666667, 0.3465656565656566, 0.3564646464646465, 0.36636363636363634, 0.37626262626262624, 0.38616161616161615, 0.39606060606060606, 0.40595959595959596, 0.41585858585858587, 0.4257575757575757, 0.43565656565656563, 0.44555555555555554, 0.45545454545454545, 0.46535353535353535, 0.47525252525252526, 0.4851515151515151, 0.495050505050505, 0.5049494949494949, 0.5148484848484849, 0.5247474747474747, 0.5346464646464646, 0.5445454545454546, 0.5544444444444444, 0.5643434343434344, 0.5742424242424242, 0.5841414141414141, 0.594040404040404, 0.6039393939393939, 0.6138383838383838, 0.6237373737373737, 0.6336363636363637, 0.6435353535353535, 0.6534343434343434, 0.6633333333333333, 0.6732323232323232, 0.6831313131313131, 0.693030303030303, 0.702929292929293, 0.7128282828282828, 0.7227272727272727, 0.7326262626262626, 0.7425252525252525, 0.7524242424242424, 0.7623232323232323, 0.7722222222222221, 0.7821212121212121, 0.792020202020202, 0.8019191919191919, 0.8118181818181818, 0.8217171717171717, 0.8316161616161616, 0.8415151515151514, 0.8514141414141414, 0.8613131313131313, 0.8712121212121212, 0.8811111111111111, 0.891010101010101, 0.9009090909090909, 0.9108080808080807, 0.9207070707070707, 0.9306060606060605, 0.9405050505050505, 0.9504040404040404, 0.9603030303030302, 0.9702020202020202, 0.98010101010101, 0.99], \"y\": [1.6873225344574858, 1.6873225344574858, 1.6873225344574858, 1.6873225344574858, 1.687322534457486, 1.6873225344574858, 1.6873225344574858, 1.6873225344574858, 1.6873225344574858, 1.6873225344574858, 1.6873225344574858, 1.6873225344574858, 1.6873225344574858, 1.6873225344574858, 1.6873225344574858, 1.6873225344574858, 1.6873225344574858, 1.6873225344574858, 1.6873225344574858, 1.6873225344574858, 1.6873225344574858, 1.6873225344574858, 1.6873225344574858, 1.6873225344574858, 1.6873225344574858, 1.6873225344574858, 1.6873225344574858, 1.687322534457486, 1.6873225344574858, 1.6873225344574858, 1.6873225344574858, 1.6873225344574858, 1.6873225344574858, 1.6873225344574858, 1.6873225344574858, 1.6873225344574858, 1.6873225344574858, 1.6873225344574858, 1.6873225344574858, 1.6873225344574858, 1.6873225344574858, 1.6873225344574858, 1.6873225344574858, 1.6873225344574858, 1.6873225344574858, 1.6873225344574858, 1.6873225344574858, 1.6873225344574858, 1.6873225344574858, 1.6873225344574858, 1.6873225344574858, 1.6873225344574858, 1.6873225344574858, 1.6873225344574858, 1.6873225344574858, 1.6873225344574858, 1.6873225344574858, 1.6873225344574858, 1.6873225344574858, 1.6873225344574858, 1.6873225344574858, 1.6873225344574858, 1.6873225344574858, 1.6873225344574858, 1.6873225344574858, 1.6873225344574858, 1.6873225344574858, 1.6873225344574858, 1.6873225344574858, 1.6873225344574858, 1.6873225344574858, 1.6873225344574858, 1.6873225344574858, 1.6873225344574858, 1.6873225344574858, 1.6873225344574858, 1.6873225344574858, 1.6873225344574858, 1.6873225344574858, 1.6873225344574858, 1.6873225344574858, 1.6873225344574858, 1.6873225344574858, 1.6873225344574858, 1.6873225344574858, 1.6873225344574858, 1.6873225344574858, 1.6873225344574858, 1.6873225344574858, 1.6873225344574858, 1.6873225344574858, 1.6873225344574858, 1.6873225344574858, 1.6873225344574858, 1.6873225344574858, 1.6873225344574858, 1.6873225344574858, 1.6873225344574858, 1.6873225344574858, 1.6873225344574858], \"yaxis\": \"y\", \"type\": \"scatter\", \"uid\": \"bec568d0-ec4d-11e8-81f0-6c4008aecb22\"}, {\"fill\": \"tozeroy\", \"fillcolor\": \"rgba(66, 134, 244, 0.1)\", \"hoverinfo\": \"none\", \"mode\": \"none\", \"showlegend\": false, \"x\": [0.01, 0.0198989898989899, 0.029797979797979796, 0.039696969696969696, 0.049595959595959596, 0.059494949494949496, 0.06939393939393938, 0.07929292929292929, 0.08919191919191918, 0.09909090909090908, 0.10898989898989898, 0.11888888888888888, 0.12878787878787878, 0.1386868686868687, 0.1485858585858586, 0.15848484848484848, 0.16838383838383839, 0.1782828282828283, 0.18818181818181817, 0.19808080808080808, 0.207979797979798, 0.21787878787878787, 0.22777777777777777, 0.23767676767676768, 0.24757575757575756, 0.25747474747474747, 0.2673737373737374, 0.2772727272727273, 0.2871717171717172, 0.29707070707070704, 0.30696969696969695, 0.31686868686868686, 0.32676767676767676, 0.33666666666666667, 0.3465656565656566, 0.3564646464646465, 0.36636363636363634, 0.37626262626262624, 0.38616161616161615, 0.39606060606060606, 0.40595959595959596, 0.41585858585858587, 0.4257575757575757, 0.43565656565656563, 0.44555555555555554, 0.45545454545454545, 0.46535353535353535, 0.47525252525252526, 0.4851515151515151, 0.495050505050505, 0.5049494949494949, 0.5148484848484849, 0.5247474747474747, 0.5346464646464646, 0.5445454545454546, 0.5544444444444444, 0.5643434343434344, 0.5742424242424242, 0.5841414141414141, 0.594040404040404, 0.6039393939393939, 0.6138383838383838, 0.6237373737373737, 0.6336363636363637, 0.6435353535353535, 0.6534343434343434, 0.6633333333333333, 0.6732323232323232, 0.6831313131313131, 0.693030303030303, 0.702929292929293, 0.7128282828282828, 0.7227272727272727, 0.7326262626262626, 0.7425252525252525, 0.7524242424242424, 0.7623232323232323, 0.7722222222222221, 0.7821212121212121, 0.792020202020202, 0.8019191919191919, 0.8118181818181818, 0.8217171717171717, 0.8316161616161616, 0.8415151515151514, 0.8514141414141414, 0.8613131313131313, 0.8712121212121212, 0.8811111111111111, 0.891010101010101, 0.9009090909090909, 0.9108080808080807, 0.9207070707070707, 0.9306060606060605, 0.9405050505050505, 0.9504040404040404, 0.9603030303030302, 0.9702020202020202, 0.98010101010101, 0.99], \"y\": [1.0903633431548898e-05, 0.0005853382398329946, 0.0012827086643950822, 0.0023619829621150832, 0.003926285035382493, 0.006090592010366046, 0.008976396648394072, 0.012703101068603872, 0.017375300203699765, 0.02306535897399235, 0.029791176347066996, 0.03748988224637826, 0.04598952233585777, 0.05498257941538217, 0.06400735236142666, 0.07244542554644812, 0.07951167264897482, 0.08133380034656226, 0.08015670263481998, 0.07596928036004937, 0.06909053952702782, 0.060143601482737175, 0.049970435197750164, 0.0395006805964892, 0.029602383371063405, 0.020950015452273586, 0.013941735583883366, 0.008683371156582962, 0.00503589592910978, 0.002704331019269449, 0.0013365929718231456, 0.0006039763063696558, 0.00024773441879405016, 9.151058807342495e-05, 3.0179885360817334e-05, 8.802137805199975e-06, 2.246479495381936e-06, 4.958517569286122e-07, 9.340869600642563e-08, 1.4793359039513831e-08, 1.9357277231997808e-09, 2.0505513986924903e-10, 1.7161607691496702e-11, 1.1013377312226745e-12, 5.218350974627801e-14, 1.7369428700207435e-15, 3.790667473529311e-17, 4.893480008541822e-19, 3.1466935819662065e-21, 7.101693128890785e-24, 1.736008796785497e-27, 0.0, 0.0, 0.0, 0.0, 0.0, 0.0, 0.0, 0.0, 0.0, 0.0, 0.0, 0.0, 0.0, 0.0, 0.0, 0.0, 0.0, 0.0, 0.0, 0.0, 0.0, 0.0, 0.0, 0.0, 0.0, 0.0, 0.0, 0.0, 0.0, 0.0, 0.0, 0.0, 0.0, 0.0, 0.0, 0.0, 0.0, 0.0, 0.0, 0.0, 0.0, 0.0, 0.0, 0.0, 0.0, 0.0, 0.0, 0.0, 0.0], \"yaxis\": \"y2\", \"type\": \"scatter\", \"uid\": \"bec6e3a4-ec4d-11e8-9f7d-6c4008aecb22\"}], {\"height\": 500, \"title\": \"Capital Price\", \"width\": 500, \"xaxis\": {\"title\": \"Wealth Share\"}, \"yaxis2\": {\"overlaying\": \"y\", \"range\": [0, 0.08133380034656226], \"showgrid\": false, \"showline\": false, \"showticklabels\": false, \"side\": \"right\", \"ticks\": \"\", \"zeroline\": false}, \"yaxis\": {\"range\": [1.4873225344574859, 1.887322534457486]}}, {\"showLink\": false, \"linkText\": \"Export to plot.ly\", \"displayModeBar\": false})});</script>"
      ]
     },
     "metadata": {},
     "output_type": "display_data"
    }
   ],
   "source": [
    "defaultModel.plot('q')"
   ]
  },
  {
   "cell_type": "code",
   "execution_count": null,
   "metadata": {},
   "outputs": [],
   "source": []
  }
 ],
 "metadata": {
  "kernelspec": {
   "display_name": "Python 3",
   "language": "python",
   "name": "python3"
  },
  "language_info": {
   "codemirror_mode": {
    "name": "ipython",
    "version": 3
   },
   "file_extension": ".py",
   "mimetype": "text/x-python",
   "name": "python",
   "nbconvert_exporter": "python",
   "pygments_lexer": "ipython3",
   "version": "3.6.5"
  },
  "latex_envs": {
   "LaTeX_envs_menu_present": true,
   "autoclose": false,
   "autocomplete": true,
   "bibliofile": "biblio.bib",
   "cite_by": "apalike",
   "current_citInitial": 1,
   "eqLabelWithNumbers": true,
   "eqNumInitial": 1,
   "hotkeys": {
    "equation": "Ctrl-E",
    "itemize": "Ctrl-I"
   },
   "labels_anchors": false,
   "latex_user_defs": false,
   "report_style_numbering": false,
   "user_envs_cfg": false
  }
 },
 "nbformat": 4,
 "nbformat_minor": 2
}
