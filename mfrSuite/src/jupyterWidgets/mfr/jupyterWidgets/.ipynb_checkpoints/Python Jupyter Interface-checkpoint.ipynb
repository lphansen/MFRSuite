{
 "cells": [
  {
   "cell_type": "markdown",
   "metadata": {},
   "source": [
    "# Python Interface to Model Solution in Hansen, Khorrami and Tourre"
   ]
  },
  {
   "cell_type": "markdown",
   "metadata": {},
   "source": [
    "In this notebook, we will use the Python interface to solve a 1D model from the framework developed in Hansen, Khorrami, and Tourre (forthcoming). This notebook provides a user-friendly Dashboard such that you only need to specify the parameters in the box below."
   ]
  },
  {
   "cell_type": "code",
   "execution_count": 1,
   "metadata": {},
   "outputs": [
    {
     "data": {
      "application/javascript": [
       "Jupyter.notebook.execute_cells([3,4,5,6,7,8,9,14,15,16,17,18,19,20,21])"
      ],
      "text/plain": [
       "<IPython.core.display.Javascript object>"
      ]
     },
     "execution_count": 1,
     "metadata": {},
     "output_type": "execute_result"
    }
   ],
   "source": [
    "from IPython.display import Javascript\n",
    "Javascript(\"Jupyter.notebook.execute_cells([3,4,5,6,7,8,9,14,15,16,17,18,19,20,21])\")"
   ]
  },
  {
   "cell_type": "code",
   "execution_count": 2,
   "metadata": {
    "scrolled": true
   },
   "outputs": [
    {
     "data": {
      "text/html": [
       "<script>var waitForPlotly = setInterval( function() {if( typeof(window.Plotly) !== \"undefined\" ){MathJax.Hub.Config({ SVG: { font: \"STIX-Web\" }, displayAlign: \"center\" });MathJax.Hub.Queue([\"setRenderer\", MathJax.Hub, \"SVG\"]);clearInterval(waitForPlotly);}}, 250 );</script>"
      ],
      "text/plain": [
       "<IPython.core.display.HTML object>"
      ]
     },
     "metadata": {},
     "output_type": "display_data"
    }
   ],
   "source": [
    "%load_ext autoreload\n",
    "%autoreload 2\n",
    "%matplotlib inline \n",
    "\n",
    "\n",
    "## Load dependencies\n",
    "from mfm.modelSoln import *\n",
    "from mfm.jupyterWidgets import *\n",
    "from IPython.core.display import display, HTML\n",
    "\n",
    "display(HTML(\n",
    "    '<script>'\n",
    "        'var waitForPlotly = setInterval( function() {'\n",
    "            'if( typeof(window.Plotly) !== \"undefined\" ){'\n",
    "                'MathJax.Hub.Config({ SVG: { font: \"STIX-Web\" }, displayAlign: \"center\" });'\n",
    "                'MathJax.Hub.Queue([\"setRenderer\", MathJax.Hub, \"SVG\"]);'\n",
    "                'clearInterval(waitForPlotly);'\n",
    "            '}}, 250 );'\n",
    "    '</script>'\n",
    "))\n"
   ]
  },
  {
   "cell_type": "code",
   "execution_count": 3,
   "metadata": {},
   "outputs": [
    {
     "data": {
      "text/html": [
       "<script>\n",
       "code_show=true; \n",
       "function code_toggle() {\n",
       " if (code_show){\n",
       " $('div.input').hide();\n",
       " } else {\n",
       " $('div.input').show();\n",
       " }\n",
       " code_show = !code_show\n",
       "} \n",
       "$( document ).ready(code_toggle);\n",
       "</script>\n",
       "The raw code is by default hidden for easier reading.\n",
       "To toggle on/off the raw code, click <a href=\"javascript:code_toggle()\">here</a>."
      ],
      "text/plain": [
       "<IPython.core.display.HTML object>"
      ]
     },
     "execution_count": 3,
     "metadata": {},
     "output_type": "execute_result"
    }
   ],
   "source": [
    "HTML('''<script>\n",
    "code_show=true; \n",
    "function code_toggle() {\n",
    " if (code_show){\n",
    " $('div.input').hide();\n",
    " } else {\n",
    " $('div.input').show();\n",
    " }\n",
    " code_show = !code_show\n",
    "} \n",
    "$( document ).ready(code_toggle);\n",
    "</script>\n",
    "The raw code is by default hidden for easier reading.\n",
    "To toggle on/off the raw code, click <a href=\"javascript:code_toggle()\">here</a>.''')"
   ]
  },
  {
   "cell_type": "markdown",
   "metadata": {},
   "source": [
    "## Setting up parameters"
   ]
  },
  {
   "cell_type": "markdown",
   "metadata": {},
   "source": [
    "First, configure the parameters. Afterwards, click button `Update parameters` and `Run model`."
   ]
  },
  {
   "cell_type": "code",
   "execution_count": 4,
   "metadata": {},
   "outputs": [
    {
     "data": {
      "application/vnd.jupyter.widget-view+json": {
       "model_id": "ef422bf8e5914a8e8f85b635cf2dc5f7",
       "version_major": 2,
       "version_minor": 0
      },
      "text/plain": [
       "VBox(children=(HBox(children=(VBox(children=(Label(value='OLG'), BoundedFloatText(value=0.1, description=\"Expe…"
      ]
     },
     "metadata": {},
     "output_type": "display_data"
    },
    {
     "data": {
      "application/vnd.jupyter.widget-view+json": {
       "model_id": "b9a000a1d7074bd0bc80ab876ea7c97a",
       "version_major": 2,
       "version_minor": 0
      },
      "text/plain": [
       "Dropdown(description='Can households hold capital', options=('No', 'Yes'), style=DescriptionStyle(description_…"
      ]
     },
     "metadata": {},
     "output_type": "display_data"
    },
    {
     "data": {
      "application/vnd.jupyter.widget-view+json": {
       "model_id": "adb0ec53b4f44c2ea49a29583882f362",
       "version_major": 2,
       "version_minor": 0
      },
      "text/plain": [
       "Output()"
      ]
     },
     "metadata": {},
     "output_type": "display_data"
    },
    {
     "data": {
      "application/vnd.jupyter.widget-view+json": {
       "model_id": "ba671bb94bc747e1a16f6b67d6f7771b",
       "version_major": 2,
       "version_minor": 0
      },
      "text/plain": [
       "Output()"
      ]
     },
     "metadata": {},
     "output_type": "display_data"
    },
    {
     "data": {
      "application/vnd.jupyter.widget-view+json": {
       "model_id": "74dee5af3e624a5687dba9be771bc912",
       "version_major": 2,
       "version_minor": 0
      },
      "text/plain": [
       "Dropdown(description='Load solution from other models:', options=('No', 'Yes'), style=DescriptionStyle(descrip…"
      ]
     },
     "metadata": {},
     "output_type": "display_data"
    },
    {
     "data": {
      "application/vnd.jupyter.widget-view+json": {
       "model_id": "0c90019004934b57b05a9498748883bb",
       "version_major": 2,
       "version_minor": 0
      },
      "text/plain": [
       "Output()"
      ]
     },
     "metadata": {},
     "output_type": "display_data"
    }
   ],
   "source": [
    "display(paramsPanel)\n",
    "display(hhCap)\n",
    "out = widgets.interactive_output(displayHHProd, {'hhCap': hhCap})\n",
    "display(out)\n",
    "\n",
    "def updateNShocks(*args):\n",
    "    sigmas = [sigma_s_norm.value, sigma_g_norm.value, sigma_varsigma_norm.value]\n",
    "    nShocks.value = len([s for s in sigmas if s > 0]) + 1\n",
    "sigma_s_norm.observe(updateNShocks, 'value')\n",
    "sigma_g_norm.observe(updateNShocks, 'value')\n",
    "sigma_varsigma_norm.observe(updateNShocks, 'value')\n",
    "\n",
    "out2 = widgets.interactive_output(displayShocks, {'nShocks': nShocks})\n",
    "display(out2)\n",
    "display(loadSolution)\n",
    "out3 = widgets.interactive_output(displayLoadSolution, {'loadSolution': loadSolution})\n",
    "display(out3)\n"
   ]
  },
  {
   "cell_type": "markdown",
   "metadata": {},
   "source": [
    "After configuring parameters, click `Update parameters` and then `Run model` to solve the mode."
   ]
  },
  {
   "cell_type": "code",
   "execution_count": 5,
   "metadata": {
    "scrolled": false
   },
   "outputs": [
    {
     "data": {
      "application/vnd.jupyter.widget-view+json": {
       "model_id": "2a2c1dfc62744afcaf2e485ee6b0efc9",
       "version_major": 2,
       "version_minor": 0
      },
      "text/plain": [
       "VBox(children=(Label(value='Execute Model'), Button(description='Update parameters', style=ButtonStyle()), But…"
      ]
     },
     "metadata": {},
     "output_type": "display_data"
    },
    {
     "name": "stdout",
     "output_type": "stream",
     "text": [
      "Parameters updated.\n",
      "Solving a 1-dimensional model...\n",
      "Program converged. Took 1914 iterations and 0.88 seconds. 13.35% of the time was spent on dealing with the linear systems.\n"
     ]
    },
    {
     "data": {
      "application/javascript": [
       "Jupyter.notebook.execute_cells([15,19,20,21,22])"
      ],
      "text/plain": [
       "<IPython.core.display.Javascript object>"
      ]
     },
     "metadata": {},
     "output_type": "display_data"
    },
    {
     "name": "stdout",
     "output_type": "stream",
     "text": [
      "Computing stationary density...\n",
      "Finished computing stationary density.\n",
      "Displaying charts...\n"
     ]
    },
    {
     "data": {
      "application/javascript": [
       "Jupyter.notebook.execute_cells([12])"
      ],
      "text/plain": [
       "<IPython.core.display.Javascript object>"
      ]
     },
     "metadata": {},
     "output_type": "display_data"
    }
   ],
   "source": [
    "display(run_box)"
   ]
  },
  {
   "cell_type": "markdown",
   "metadata": {},
   "source": [
    "## Model Results"
   ]
  },
  {
   "cell_type": "markdown",
   "metadata": {},
   "source": [
    "### Plots"
   ]
  },
  {
   "cell_type": "code",
   "execution_count": 17,
   "metadata": {},
   "outputs": [
    {
     "data": {
      "application/vnd.jupyter.widget-view+json": {
       "model_id": "8e045f3c34a34ce3b1aede30695f4450",
       "version_major": 2,
       "version_minor": 0
      },
      "text/plain": [
       "HBox(children=(Dropdown(description='Left', index=3, options={'Risk Price (Experts): TFP Shock': 'piE1()', 'Ri…"
      ]
     },
     "metadata": {},
     "output_type": "display_data"
    },
    {
     "data": {
      "application/vnd.jupyter.widget-view+json": {
       "model_id": "8bcd3158456749e08899ce7cd399cba2",
       "version_major": 2,
       "version_minor": 0
      },
      "text/plain": [
       "Output()"
      ]
     },
     "metadata": {},
     "output_type": "display_data"
    }
   ],
   "source": [
    "clear_output()\n",
    "variableChoices   = defaultModel.label2Var.copy()\n",
    "removeList        = ['Value Function of Experts','Value Function of Households','Wealth Share','Stochastic Vol',\n",
    "                                                                                'Idio. Vol',\n",
    "                                                                                'Growth']\n",
    "for k in removeList:\n",
    "    variableChoices.pop(k, None)\n",
    "plotVar1.options  = variableChoices\n",
    "plotVar2.options  = variableChoices\n",
    "plotVar1.value    = 'chi()'\n",
    "\n",
    "if defaultModel.params['nDims'] == 1:\n",
    "    ui = widgets.HBox([plotVar1, plotVar2], layout = box_layout)\n",
    "else:\n",
    "    plotVar1.description = 'Variable'\n",
    "    ui = widgets.HBox([plotVar1], layout = box_layout)\n",
    "display(ui)\n",
    "panel = widgets.interactive(defaultModel.plotPanel, varName1 = plotVar1, varName2 = plotVar2)\n",
    "    \n",
    "display(panel.children[-1])\n",
    "plotVar1.value    = 'piE1()'\n",
    "plotVar2.value    = 'piH1()'"
   ]
  },
  {
   "cell_type": "markdown",
   "metadata": {},
   "source": [
    "## Diagnostics"
   ]
  },
  {
   "cell_type": "markdown",
   "metadata": {},
   "source": [
    "### Moments"
   ]
  },
  {
   "cell_type": "code",
   "execution_count": 12,
   "metadata": {
    "scrolled": true
   },
   "outputs": [
    {
     "data": {
      "application/vnd.jupyter.widget-view+json": {
       "model_id": "5b2ba6c3a08449b0836d9854e549d45d",
       "version_major": 2,
       "version_minor": 0
      },
      "text/plain": [
       "SelectMultiple(description='Equilibrium Quantities', layout=Layout(width='70%'), options=('Risk Price (Experts…"
      ]
     },
     "metadata": {},
     "output_type": "display_data"
    }
   ],
   "source": [
    "variableChoices   = defaultModel.label2Var.copy()\n",
    "removeList        = ['Value Function of Experts','Value Function of Households']\n",
    "for k in removeList:\n",
    "    variableChoices.pop(k, None)\n",
    "    \n",
    "momentsBox.options = list(variableChoices.keys() )\n",
    "display(momentsBox)"
   ]
  },
  {
   "cell_type": "code",
   "execution_count": 7,
   "metadata": {},
   "outputs": [
    {
     "data": {
      "application/vnd.jupyter.widget-view+json": {
       "model_id": "06fa61d2e09a42aebf20593ed39e0526",
       "version_major": 2,
       "version_minor": 0
      },
      "text/plain": [
       "Button(description='Compute Moments', style=ButtonStyle())"
      ]
     },
     "metadata": {},
     "output_type": "display_data"
    },
    {
     "data": {
      "text/markdown": [
       "#### Macro Moments"
      ],
      "text/plain": [
       "<IPython.core.display.Markdown object>"
      ]
     },
     "metadata": {},
     "output_type": "display_data"
    },
    {
     "data": {
      "text/latex": [
       "\\begin{array}{ l| c|c} \\hline\n",
       " & \\text{Mean} & \\text{Std} \\\\ \n",
       " \\hline\n",
       "\\text{Wealth Share} &\n",
       " \\hphantom{0}0.1765\\hphantom{0} &\n",
       " \\hphantom{0}0.0488\\hphantom{0}\n",
       " \\\\\n",
       " \\hline\n",
       "\\text{Experts' Consumption-Wealth Ratio} &\n",
       " \\hphantom{0}0.0500\\hphantom{0} &\n",
       " \\hphantom{0}0.0000\\hphantom{0}\n",
       " \\\\\n",
       " \\hline\n",
       "\\text{Households' Consumption-Wealth Ratio} &\n",
       " \\hphantom{0}0.0500\\hphantom{0} &\n",
       " \\hphantom{0}0.0000\\hphantom{0}\n",
       " \\\\\n",
       " \\hline\n",
       "\\text{Aggregate Growth} &\n",
       " \\hphantom{0}0.0203\\hphantom{0} &\n",
       " \\hphantom{0}0.0400\\hphantom{0}\n",
       " \\\\\n",
       " \\hline\n",
       "\\text{Investment Rate} &\n",
       " \\hphantom{0}0.0703\\hphantom{0} &\n",
       " \\hphantom{0}0.0000\\hphantom{0}\n",
       " \\\\\n",
       " \\hline\n",
       "\\text{Drift of Aggregate Growth} &\n",
       " \\hphantom{0}0.0203\\hphantom{0} &\n",
       " \\hphantom{0}-0.0000\\hphantom{0}\n",
       " \\\\\n",
       " \\hline\n",
       "\\text{Vol of Aggregate Growth} &\n",
       " \\hphantom{0}0.0400\\hphantom{0} &\n",
       " \\hphantom{0}0.0000\\hphantom{0}\n",
       " \\\\\n",
       " \\hline\n",
       "\\text{Consumption-to-Investment Ratio} &\n",
       " \\hphantom{0}0.7889\\hphantom{0} &\n",
       " \\hphantom{0}0.0000\\hphantom{0}\n",
       " \\\\\n",
       " \\hline \n",
       " \\end{array}"
      ],
      "text/plain": [
       "<IPython.core.display.Latex object>"
      ]
     },
     "metadata": {},
     "output_type": "display_data"
    },
    {
     "data": {
      "text/markdown": [
       "#### Asset Pricing Moments"
      ],
      "text/plain": [
       "<IPython.core.display.Markdown object>"
      ]
     },
     "metadata": {},
     "output_type": "display_data"
    },
    {
     "data": {
      "text/latex": [
       "\\begin{array}{ l| c|c} \\hline\n",
       " & \\text{Mean} & \\text{Std} \\\\ \n",
       " \\hline\n",
       "\\text{Risk Price (Experts): TFP Shock} &\n",
       " \\hphantom{0}0.1262\\hphantom{0} &\n",
       " \\hphantom{0}0.0577\\hphantom{0}\n",
       " \\\\\n",
       " \\hline\n",
       "\\text{Risk Price (Households): TFP Shock} &\n",
       " \\hphantom{0}0.0244\\hphantom{0} &\n",
       " \\hphantom{0}0.0014\\hphantom{0}\n",
       " \\\\\n",
       " \\hline\n",
       "\\text{Experts' Leverage} &\n",
       " \\hphantom{0}3.1560\\hphantom{0} &\n",
       " \\hphantom{0}1.4414\\hphantom{0}\n",
       " \\\\\n",
       " \\hline\n",
       "\\text{Experts' Equity Retention} &\n",
       " \\hphantom{0}0.5000\\hphantom{0} &\n",
       " \\hphantom{0}0.0000\\hphantom{0}\n",
       " \\\\\n",
       " \\hline\n",
       "\\text{Drift of Wealth} &\n",
       " \\hphantom{0}-0.0000\\hphantom{0} &\n",
       " \\hphantom{0}0.0020\\hphantom{0}\n",
       " \\\\\n",
       " \\hline\n",
       "\\text{Experts' Bonus Risk Premium} &\n",
       " \\hphantom{0}0.0041\\hphantom{0} &\n",
       " \\hphantom{0}0.0024\\hphantom{0}\n",
       " \\\\\n",
       " \\hline\n",
       "\\text{Experts' Capital Holdings} &\n",
       " \\hphantom{0}1.0000\\hphantom{0} &\n",
       " \\hphantom{0}0.0000\\hphantom{0}\n",
       " \\\\\n",
       " \\hline\n",
       "\\text{Interest Rate} &\n",
       " \\hphantom{0}0.0665\\hphantom{0} &\n",
       " \\hphantom{0}0.0011\\hphantom{0}\n",
       " \\\\\n",
       " \\hline\n",
       "\\text{Capital Price} &\n",
       " \\hphantom{0}1.2348\\hphantom{0} &\n",
       " \\hphantom{0}0.0000\\hphantom{0}\n",
       " \\\\\n",
       " \\hline\n",
       "\\text{Investment-to-Capital Ratio} &\n",
       " \\hphantom{0}0.0783\\hphantom{0} &\n",
       " \\hphantom{0}0.0000\\hphantom{0}\n",
       " \\\\\n",
       " \\hline \n",
       " \\end{array}"
      ],
      "text/plain": [
       "<IPython.core.display.Latex object>"
      ]
     },
     "metadata": {},
     "output_type": "display_data"
    }
   ],
   "source": [
    "display(computeMomentsButton)"
   ]
  },
  {
   "cell_type": "code",
   "execution_count": 8,
   "metadata": {
    "scrolled": false
   },
   "outputs": [
    {
     "data": {
      "application/vnd.jupyter.widget-view+json": {
       "model_id": "0c60eeab33774214bc19f5e13d302ac2",
       "version_major": 2,
       "version_minor": 0
      },
      "text/plain": [
       "Button(description='Compute Correlations', style=ButtonStyle())"
      ]
     },
     "metadata": {},
     "output_type": "display_data"
    }
   ],
   "source": [
    "display(computeCorrelationsButton)"
   ]
  },
  {
   "cell_type": "markdown",
   "metadata": {},
   "source": [
    "### Shock Elasticities"
   ]
  },
  {
   "cell_type": "code",
   "execution_count": 13,
   "metadata": {},
   "outputs": [
    {
     "data": {
      "application/vnd.jupyter.widget-view+json": {
       "model_id": "baa6edb37c4c406d9e06a08bca14857b",
       "version_major": 2,
       "version_minor": 0
      },
      "text/plain": [
       "Button(description='Display Shock Elasticities Panel', layout=Layout(width='50%'), style=ButtonStyle())"
      ]
     },
     "metadata": {},
     "output_type": "display_data"
    }
   ],
   "source": [
    "display(displayShockElasButton)"
   ]
  },
  {
   "cell_type": "code",
   "execution_count": 14,
   "metadata": {},
   "outputs": [
    {
     "data": {
      "application/vnd.jupyter.widget-view+json": {
       "model_id": "419040f4f0714cf1ac27dc3c512255ee",
       "version_major": 2,
       "version_minor": 0
      },
      "text/plain": [
       "VBox(children=(Text(value='0.1, 0.5, 0.9', description='Pcts of wealth', layout=Layout(width='70%'), placehold…"
      ]
     },
     "metadata": {},
     "output_type": "display_data"
    }
   ],
   "source": [
    "displayShockElas(defaultModel.stateVarList)"
   ]
  },
  {
   "cell_type": "code",
   "execution_count": 15,
   "metadata": {},
   "outputs": [
    {
     "data": {
      "application/vnd.jupyter.widget-view+json": {
       "model_id": "c3939b14ba57443dab145d5be319d9dd",
       "version_major": 2,
       "version_minor": 0
      },
      "text/plain": [
       "Button(description='Compute Shock Elasticities', layout=Layout(width='50%'), style=ButtonStyle())"
      ]
     },
     "metadata": {},
     "output_type": "display_data"
    }
   ],
   "source": [
    "display(computeShockElasButton)"
   ]
  },
  {
   "cell_type": "code",
   "execution_count": 16,
   "metadata": {
    "scrolled": false
   },
   "outputs": [
    {
     "data": {
      "application/vnd.jupyter.widget-view+json": {
       "model_id": "a5c273d18a124158bfa8bcadea625020",
       "version_major": 2,
       "version_minor": 0
      },
      "text/plain": [
       "VBox(children=(Text(value='0.1, 0.5, 0.9', description='Pcts of wealth', layout=Layout(width='70%'), placehold…"
      ]
     },
     "metadata": {},
     "output_type": "display_data"
    },
    {
     "data": {
      "application/vnd.jupyter.widget-view+json": {
       "model_id": "515c6ece1bdc4b85a0292c023104bcaa",
       "version_major": 2,
       "version_minor": 0
      },
      "text/plain": [
       "Button(description='Display Shock Elasticities Plot', layout=Layout(width='50%'), style=ButtonStyle())"
      ]
     },
     "metadata": {},
     "output_type": "display_data"
    }
   ],
   "source": [
    "displayShockElasPanel(defaultModel.stateVarList)\n",
    "display(displayShockElasPanelButton)"
   ]
  }
 ],
 "metadata": {
  "kernelspec": {
   "display_name": "Python 3",
   "language": "python",
   "name": "python3"
  },
  "language_info": {
   "codemirror_mode": {
    "name": "ipython",
    "version": 3
   },
   "file_extension": ".py",
   "mimetype": "text/x-python",
   "name": "python",
   "nbconvert_exporter": "python",
   "pygments_lexer": "ipython3",
   "version": "3.6.5"
  },
  "latex_envs": {
   "LaTeX_envs_menu_present": true,
   "autoclose": false,
   "autocomplete": true,
   "bibliofile": "biblio.bib",
   "cite_by": "apalike",
   "current_citInitial": 1,
   "eqLabelWithNumbers": true,
   "eqNumInitial": 1,
   "hotkeys": {
    "equation": "Ctrl-E",
    "itemize": "Ctrl-I"
   },
   "labels_anchors": false,
   "latex_user_defs": false,
   "report_style_numbering": false,
   "user_envs_cfg": false
  }
 },
 "nbformat": 4,
 "nbformat_minor": 2
}
