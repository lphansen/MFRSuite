{
 "cells": [
  {
   "cell_type": "markdown",
   "metadata": {},
   "source": [
    "# Python Interface to Model Solution in Hansen, Khorrami and Tourre"
   ]
  },
  {
   "cell_type": "markdown",
   "metadata": {},
   "source": [
    "In this notebook, we will use the Python interface to solve a 1D model from the framework developed in Hansen, Khorrami, and Tourre (forthcoming). This notebook provides a user-friendly Dashboard such that you only need to specify the parameters in the box below."
   ]
  },
  {
   "cell_type": "code",
   "execution_count": 2,
   "metadata": {},
   "outputs": [
    {
     "data": {
      "application/javascript": [
       "Jupyter.notebook.execute_cells([3,4,5,6,7,8,9,14,15,16,17,18,19,20,21])"
      ],
      "text/plain": [
       "<IPython.core.display.Javascript object>"
      ]
     },
     "execution_count": 2,
     "metadata": {},
     "output_type": "execute_result"
    }
   ],
   "source": [
    "from IPython.display import Javascript\n",
    "Javascript(\"Jupyter.notebook.execute_cells([3,4,5,6,7,8,9,14,15,16,17,18,19,20,21])\")"
   ]
  },
  {
   "cell_type": "code",
   "execution_count": 3,
   "metadata": {
    "scrolled": true
   },
   "outputs": [
    {
     "data": {
      "text/html": [
       "<script>var waitForPlotly = setInterval( function() {if( typeof(window.Plotly) !== \"undefined\" ){MathJax.Hub.Config({ SVG: { font: \"STIX-Web\" }, displayAlign: \"center\" });MathJax.Hub.Queue([\"setRenderer\", MathJax.Hub, \"SVG\"]);clearInterval(waitForPlotly);}}, 250 );</script>"
      ],
      "text/plain": [
       "<IPython.core.display.HTML object>"
      ]
     },
     "metadata": {},
     "output_type": "display_data"
    }
   ],
   "source": [
    "%load_ext autoreload\n",
    "%autoreload 2\n",
    "%matplotlib inline \n",
    "\n",
    "\n",
    "## Load dependencies\n",
    "from mfm.modelSoln import *\n",
    "from mfm.jupyterWidgets import *\n",
    "from IPython.core.display import display, HTML\n",
    "\n",
    "display(HTML(\n",
    "    '<script>'\n",
    "        'var waitForPlotly = setInterval( function() {'\n",
    "            'if( typeof(window.Plotly) !== \"undefined\" ){'\n",
    "                'MathJax.Hub.Config({ SVG: { font: \"STIX-Web\" }, displayAlign: \"center\" });'\n",
    "                'MathJax.Hub.Queue([\"setRenderer\", MathJax.Hub, \"SVG\"]);'\n",
    "                'clearInterval(waitForPlotly);'\n",
    "            '}}, 250 );'\n",
    "    '</script>'\n",
    "))\n"
   ]
  },
  {
   "cell_type": "code",
   "execution_count": 4,
   "metadata": {},
   "outputs": [
    {
     "data": {
      "text/html": [
       "<script>\n",
       "code_show=true; \n",
       "function code_toggle() {\n",
       " if (code_show){\n",
       " $('div.input').hide();\n",
       " } else {\n",
       " $('div.input').show();\n",
       " }\n",
       " code_show = !code_show\n",
       "} \n",
       "$( document ).ready(code_toggle);\n",
       "</script>\n",
       "The raw code is by default hidden for easier reading.\n",
       "To toggle on/off the raw code, click <a href=\"javascript:code_toggle()\">here</a>."
      ],
      "text/plain": [
       "<IPython.core.display.HTML object>"
      ]
     },
     "execution_count": 4,
     "metadata": {},
     "output_type": "execute_result"
    }
   ],
   "source": [
    "HTML('''<script>\n",
    "code_show=true; \n",
    "function code_toggle() {\n",
    " if (code_show){\n",
    " $('div.input').hide();\n",
    " } else {\n",
    " $('div.input').show();\n",
    " }\n",
    " code_show = !code_show\n",
    "} \n",
    "$( document ).ready(code_toggle);\n",
    "</script>\n",
    "The raw code is by default hidden for easier reading.\n",
    "To toggle on/off the raw code, click <a href=\"javascript:code_toggle()\">here</a>.''')"
   ]
  },
  {
   "cell_type": "markdown",
   "metadata": {},
   "source": [
    "## Setting up parameters"
   ]
  },
  {
   "cell_type": "markdown",
   "metadata": {},
   "source": [
    "First, configure the parameters. Afterwards, click button `Update parameters` and `Run model`."
   ]
  },
  {
   "cell_type": "code",
   "execution_count": 5,
   "metadata": {},
   "outputs": [
    {
     "data": {
      "application/vnd.jupyter.widget-view+json": {
       "model_id": "e2e0ae1eccc341d89187faa2a252c416",
       "version_major": 2,
       "version_minor": 0
      },
      "text/plain": [
       "VBox(children=(HBox(children=(VBox(children=(Label(value='OLG'), BoundedFloatText(value=0.1, description=\"Expe…"
      ]
     },
     "metadata": {},
     "output_type": "display_data"
    },
    {
     "data": {
      "application/vnd.jupyter.widget-view+json": {
       "model_id": "55f32063e93340e69c0f62100fe4291a",
       "version_major": 2,
       "version_minor": 0
      },
      "text/plain": [
       "Dropdown(description='Can households hold capital', options=('No', 'Yes'), style=DescriptionStyle(description_…"
      ]
     },
     "metadata": {},
     "output_type": "display_data"
    },
    {
     "data": {
      "application/vnd.jupyter.widget-view+json": {
       "model_id": "5fd14fe5fc4948e1b3397c50b4e754df",
       "version_major": 2,
       "version_minor": 0
      },
      "text/plain": [
       "Output()"
      ]
     },
     "metadata": {},
     "output_type": "display_data"
    },
    {
     "data": {
      "application/vnd.jupyter.widget-view+json": {
       "model_id": "cd6a61f1beae4e8f91652c67f8d2cf32",
       "version_major": 2,
       "version_minor": 0
      },
      "text/plain": [
       "Output()"
      ]
     },
     "metadata": {},
     "output_type": "display_data"
    },
    {
     "data": {
      "application/vnd.jupyter.widget-view+json": {
       "model_id": "2c9373c159b44746a86ccc687bc8c3d0",
       "version_major": 2,
       "version_minor": 0
      },
      "text/plain": [
       "Dropdown(description='Load solution from other models:', options=('No', 'Yes'), style=DescriptionStyle(descrip…"
      ]
     },
     "metadata": {},
     "output_type": "display_data"
    },
    {
     "data": {
      "application/vnd.jupyter.widget-view+json": {
       "model_id": "04f6ef1f6fdf4112b3fd90602c7e9dad",
       "version_major": 2,
       "version_minor": 0
      },
      "text/plain": [
       "Output()"
      ]
     },
     "metadata": {},
     "output_type": "display_data"
    }
   ],
   "source": [
    "display(paramsPanel)\n",
    "display(hhCap)\n",
    "out = widgets.interactive_output(displayHHProd, {'hhCap': hhCap})\n",
    "display(out)\n",
    "\n",
    "def updateNShocks(*args):\n",
    "    sigmas = [sigma_s_norm.value, sigma_g_norm.value, sigma_varsigma_norm.value]\n",
    "    nShocks.value = len([s for s in sigmas if s > 0]) + 1\n",
    "sigma_s_norm.observe(updateNShocks, 'value')\n",
    "sigma_g_norm.observe(updateNShocks, 'value')\n",
    "sigma_varsigma_norm.observe(updateNShocks, 'value')\n",
    "\n",
    "out2 = widgets.interactive_output(displayShocks, {'nShocks': nShocks})\n",
    "display(out2)\n",
    "display(loadSolution)\n",
    "out3 = widgets.interactive_output(displayLoadSolution, {'loadSolution': loadSolution})\n",
    "display(out3)\n"
   ]
  },
  {
   "cell_type": "markdown",
   "metadata": {},
   "source": [
    "After configuring parameters, click `Update parameters` and then `Run model` to solve the mode."
   ]
  },
  {
   "cell_type": "code",
   "execution_count": 6,
   "metadata": {
    "scrolled": false
   },
   "outputs": [
    {
     "data": {
      "application/vnd.jupyter.widget-view+json": {
       "model_id": "eb98cbf9388544e18d9c08ab1f1b76e5",
       "version_major": 2,
       "version_minor": 0
      },
      "text/plain": [
       "VBox(children=(Label(value='Execute Model'), Button(description='Update parameters', style=ButtonStyle()), But…"
      ]
     },
     "metadata": {},
     "output_type": "display_data"
    },
    {
     "name": "stdout",
     "output_type": "stream",
     "text": [
      "Parameters updated.\n",
      "Solving a 3-dimensional model...\n",
      "Program converged. Took 2045 iterations and 1040.05 seconds. 33.19% of the time was spent on dealing with the linear systems.\n"
     ]
    },
    {
     "data": {
      "application/javascript": [
       "Jupyter.notebook.execute_cells([19,20,21,22])"
      ],
      "text/plain": [
       "<IPython.core.display.Javascript object>"
      ]
     },
     "metadata": {},
     "output_type": "display_data"
    },
    {
     "name": "stdout",
     "output_type": "stream",
     "text": [
      "Computing stationary density...\n",
      "Finished computing stationary density.\n"
     ]
    }
   ],
   "source": [
    "display(run_box)"
   ]
  },
  {
   "cell_type": "markdown",
   "metadata": {},
   "source": [
    "## Model Results"
   ]
  },
  {
   "cell_type": "markdown",
   "metadata": {},
   "source": [
    "### Plots"
   ]
  },
  {
   "cell_type": "code",
   "execution_count": null,
   "metadata": {
    "scrolled": false
   },
   "outputs": [],
   "source": [
    "clear_output()\n",
    "plotVar1.value    = 'chi()'\n",
    "\n",
    "if defaultModel.params['nDims'] == 1:\n",
    "    ui = widgets.HBox([plotVar1, plotVar2], layout = box_layout)\n",
    "else:\n",
    "    plotVar1.description = 'Variable'\n",
    "    ui = widgets.HBox([plotVar1], layout = box_layout)\n",
    "display(ui)\n",
    "panel = widgets.interactive(defaultModel.plotPanel, varName1 = plotVar1, varName2 = plotVar2)\n",
    "    \n",
    "display(panel.children[-1])\n",
    "plotVar1.value    = 'piE1()'\n",
    "plotVar2.value    = 'piH1()'"
   ]
  },
  {
   "cell_type": "markdown",
   "metadata": {},
   "source": [
    "## Diagnostics"
   ]
  },
  {
   "cell_type": "markdown",
   "metadata": {},
   "source": [
    "### Moments"
   ]
  },
  {
   "cell_type": "code",
   "execution_count": 7,
   "metadata": {
    "scrolled": true
   },
   "outputs": [
    {
     "data": {
      "application/vnd.jupyter.widget-view+json": {
       "model_id": "db50f1a1748043ffbf07c4590b1de461",
       "version_major": 2,
       "version_minor": 0
      },
      "text/plain": [
       "SelectMultiple(description='Equilibrium Quantities', index=(0,), layout=Layout(width='70%'), options=('Risk Pr…"
      ]
     },
     "metadata": {},
     "output_type": "display_data"
    }
   ],
   "source": [
    "display(momentsBox)"
   ]
  },
  {
   "cell_type": "code",
   "execution_count": 8,
   "metadata": {},
   "outputs": [
    {
     "data": {
      "application/vnd.jupyter.widget-view+json": {
       "model_id": "dbae4cfc21904fe8a660f7a57f2a40d9",
       "version_major": 2,
       "version_minor": 0
      },
      "text/plain": [
       "Button(description='Compute Moments', style=ButtonStyle())"
      ]
     },
     "metadata": {},
     "output_type": "display_data"
    }
   ],
   "source": [
    "display(computeMomentsButton)"
   ]
  },
  {
   "cell_type": "code",
   "execution_count": 9,
   "metadata": {
    "scrolled": false
   },
   "outputs": [
    {
     "data": {
      "application/vnd.jupyter.widget-view+json": {
       "model_id": "7eef5eb8d13c4a319c78c6f5fb1251bf",
       "version_major": 2,
       "version_minor": 0
      },
      "text/plain": [
       "Button(description='Compute Correlations', style=ButtonStyle())"
      ]
     },
     "metadata": {},
     "output_type": "display_data"
    }
   ],
   "source": [
    "display(computeCorrelationsButton)"
   ]
  },
  {
   "cell_type": "markdown",
   "metadata": {},
   "source": [
    "### Shock Elasticities"
   ]
  },
  {
   "cell_type": "code",
   "execution_count": 13,
   "metadata": {},
   "outputs": [
    {
     "data": {
      "application/vnd.jupyter.widget-view+json": {
       "model_id": "55c719a7051a4205a2d2916084a2cb57",
       "version_major": 2,
       "version_minor": 0
      },
      "text/plain": [
       "Button(description='Display Shock Elasticities Panel', layout=Layout(width='50%'), style=ButtonStyle())"
      ]
     },
     "metadata": {},
     "output_type": "display_data"
    }
   ],
   "source": [
    "display(displayShockElasButton)"
   ]
  },
  {
   "cell_type": "code",
   "execution_count": 14,
   "metadata": {},
   "outputs": [
    {
     "data": {
      "application/vnd.jupyter.widget-view+json": {
       "model_id": "a8670ea69d3e4b919964907a4cce6574",
       "version_major": 2,
       "version_minor": 0
      },
      "text/plain": [
       "VBox(children=(Text(value='0.1, 0.5, 0.9', description='Pcts of wealth', layout=Layout(width='70%'), placehold…"
      ]
     },
     "metadata": {},
     "output_type": "display_data"
    }
   ],
   "source": [
    "displayShockElas(defaultModel.stateVarList)"
   ]
  },
  {
   "cell_type": "code",
   "execution_count": 15,
   "metadata": {},
   "outputs": [
    {
     "data": {
      "application/vnd.jupyter.widget-view+json": {
       "model_id": "f64e43e6151c42fa81d1c7dca0a7f33d",
       "version_major": 2,
       "version_minor": 0
      },
      "text/plain": [
       "Button(description='Compute Shock Elasticities', layout=Layout(width='50%'), style=ButtonStyle())"
      ]
     },
     "metadata": {},
     "output_type": "display_data"
    }
   ],
   "source": [
    "display(computeShockElasButton)"
   ]
  },
  {
   "cell_type": "code",
   "execution_count": 16,
   "metadata": {
    "scrolled": false
   },
   "outputs": [
    {
     "data": {
      "application/vnd.jupyter.widget-view+json": {
       "model_id": "e44e26c8e4c04b259ec6eba2d34c9d95",
       "version_major": 2,
       "version_minor": 0
      },
      "text/plain": [
       "VBox(children=(Text(value='0.1, 0.5, 0.9', description='Pcts of wealth', layout=Layout(width='70%'), placehold…"
      ]
     },
     "metadata": {},
     "output_type": "display_data"
    },
    {
     "data": {
      "application/vnd.jupyter.widget-view+json": {
       "model_id": "60b08c848cd644d5b89757e1781198b4",
       "version_major": 2,
       "version_minor": 0
      },
      "text/plain": [
       "Button(description='Display Shock Elasticities Plot', layout=Layout(width='50%'), style=ButtonStyle())"
      ]
     },
     "metadata": {},
     "output_type": "display_data"
    }
   ],
   "source": [
    "displayShockElasPanel(defaultModel.stateVarList)\n",
    "display(displayShockElasPanelButton)"
   ]
  },
  {
   "cell_type": "code",
   "execution_count": 17,
   "metadata": {},
   "outputs": [
    {
     "data": {
      "application/vnd.jupyter.widget-view+json": {
       "model_id": "8d37bbe645bd48f59569d8e083c663cc",
       "version_major": 2,
       "version_minor": 0
      },
      "text/plain": [
       "FloatSlider(value=1e-05, description='Idio. vol.', max=0.15294600639311706, min=1e-05, step=0.001)"
      ]
     },
     "metadata": {},
     "output_type": "display_data"
    },
    {
     "data": {
      "application/vnd.jupyter.widget-view+json": {
       "model_id": "5b59e8677bad4de482a000fe00693b6a",
       "version_major": 2,
       "version_minor": 0
      },
      "text/plain": [
       "Output()"
      ]
     },
     "metadata": {},
     "output_type": "display_data"
    },
    {
     "data": {
      "application/vnd.jupyter.widget-view+json": {
       "model_id": "3046cdf92aeb4bc985005f988a4af86c",
       "version_major": 2,
       "version_minor": 0
      },
      "text/plain": [
       "FigureWidget({\n",
       "    'data': [{'colorscale': 'Viridis',\n",
       "              'type': 'surface',\n",
       "              'uid': 'a…"
      ]
     },
     "metadata": {},
     "output_type": "display_data"
    }
   ],
   "source": [
    "\n",
    "import plotly.graph_objs as go\n",
    "import plotly.offline as py\n",
    "\n",
    "import numpy as np\n",
    "from ipywidgets import interactive, HBox, VBox\n",
    "\n",
    "\n",
    "f = go.FigureWidget(\n",
    "    data=[\n",
    "        go.Surface(z=defaultModel.chi().reshape(defaultModel.gridSizeList, order = 'F')[:,:,1], x=defaultModel.w().reshape(defaultModel.gridSizeList, order = 'F')[:,:,1], \n",
    "                   y=defaultModel.g().reshape(defaultModel.gridSizeList, order = 'F')[:,:,1],\n",
    "                   colorscale='Viridis')],\n",
    "    layout=go.Layout(    autosize=False,\n",
    "    title='Experts Equity Holdings',\n",
    "    height = 900,\n",
    "    width  = 800,\n",
    "    scene=dict(\n",
    "        xaxis=dict(\n",
    "            gridcolor='rgb(255, 255, 255)',\n",
    "            zerolinecolor='rgb(255, 255, 255)',\n",
    "            showbackground=True,\n",
    "            backgroundcolor='rgb(230, 230,230)',\n",
    "            title = 'Wealth'\n",
    "        ),\n",
    "        yaxis=dict(\n",
    "            gridcolor='rgb(255, 255, 255)',\n",
    "            zerolinecolor='rgb(255, 255, 255)',\n",
    "            showbackground=True,\n",
    "            backgroundcolor='rgb(230, 230,230)',\n",
    "            title = 'Growth'\n",
    "        ),\n",
    "        zaxis=dict(\n",
    "            gridcolor='rgb(255, 255, 255)',\n",
    "            zerolinecolor='rgb(255, 255, 255)',\n",
    "            showbackground=True,\n",
    "            backgroundcolor='rgb(230, 230,230)',\n",
    "            range = (np.min(defaultModel.q()), np.max(defaultModel.q()))\n",
    "        ), aspectratio=dict(x=1.0,\n",
    "                                             y=0.8,\n",
    "                                             z=0.8),\n",
    "                           \n",
    "    camera=go.layout.scene.Camera(\n",
    "            up=dict(x=0, y=0, z=1),\n",
    "            center=dict(x=0, y=0, z=0),\n",
    "            eye=dict(x=1.25, y=1.25, z=1.25))\n",
    "    ))\n",
    ")\n",
    "\n",
    "\n",
    "def update_z(varsigmaVal):\n",
    "    pt = np.argmin(np.abs(np.unique(defaultModel.varsigma()) - varsigmaVal))\n",
    "    f.data[0].z = defaultModel.q().reshape(defaultModel.gridSizeList, order = 'F')[:,:,int(pt)]\n",
    "\n",
    "\n",
    "a = widgets.FloatSlider(min = np.min(defaultModel.varsigma()), \n",
    "                        max = np.max(defaultModel.varsigma()),step = 0.001, description = 'Idio. vol.')\n",
    "freq_slider = widgets.interactive_output(update_z, {'varsigmaVal':a})\n",
    "display(a)\n",
    "vb = VBox((f, freq_slider))\n",
    "vb.layout.align_items = 'center'\n",
    "display(freq_slider)\n",
    "display(f)"
   ]
  },
  {
   "cell_type": "code",
   "execution_count": null,
   "metadata": {},
   "outputs": [],
   "source": []
  }
 ],
 "metadata": {
  "kernelspec": {
   "display_name": "Python 3",
   "language": "python",
   "name": "python3"
  },
  "language_info": {
   "codemirror_mode": {
    "name": "ipython",
    "version": 3
   },
   "file_extension": ".py",
   "mimetype": "text/x-python",
   "name": "python",
   "nbconvert_exporter": "python",
   "pygments_lexer": "ipython3",
   "version": "3.6.5"
  },
  "latex_envs": {
   "LaTeX_envs_menu_present": true,
   "autoclose": false,
   "autocomplete": true,
   "bibliofile": "biblio.bib",
   "cite_by": "apalike",
   "current_citInitial": 1,
   "eqLabelWithNumbers": true,
   "eqNumInitial": 1,
   "hotkeys": {
    "equation": "Ctrl-E",
    "itemize": "Ctrl-I"
   },
   "labels_anchors": false,
   "latex_user_defs": false,
   "report_style_numbering": false,
   "user_envs_cfg": false
  }
 },
 "nbformat": 4,
 "nbformat_minor": 2
}
